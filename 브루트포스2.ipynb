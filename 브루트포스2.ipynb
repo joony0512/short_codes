{
  "nbformat": 4,
  "nbformat_minor": 0,
  "metadata": {
    "colab": {
      "provenance": [],
      "authorship_tag": "ABX9TyN16ireA88E7yKjwLALaQrj",
      "include_colab_link": true
    },
    "kernelspec": {
      "name": "python3",
      "display_name": "Python 3"
    },
    "language_info": {
      "name": "python"
    }
  },
  "cells": [
    {
      "cell_type": "markdown",
      "metadata": {
        "id": "view-in-github",
        "colab_type": "text"
      },
      "source": [
        "<a href=\"https://colab.research.google.com/github/joony0512/short_codes/blob/main/%EB%B8%8C%EB%A3%A8%ED%8A%B8%ED%8F%AC%EC%8A%A42.ipynb\" target=\"_parent\"><img src=\"https://colab.research.google.com/assets/colab-badge.svg\" alt=\"Open In Colab\"/></a>"
      ]
    },
    {
      "cell_type": "markdown",
      "source": [
        "# 종말의 수\n",
        "\n",
        "문제\n",
        "666은 종말을 나타내는 수라고 한다. 따라서, 많은 블록버스터 영화에서는 666이 들어간 제목을 많이 사용한다. 영화감독 숌은 세상의 종말 이라는 시리즈 영화의 감독이다. 조지 루카스는 스타워즈를 만들 때, 스타워즈 1, 스타워즈 2, 스타워즈 3, 스타워즈 4, 스타워즈 5, 스타워즈 6과 같이 이름을 지었고, 피터 잭슨은 반지의 제왕을 만들 때, 반지의 제왕 1, 반지의 제왕 2, 반지의 제왕 3과 같이 영화 제목을 지었다. 하지만 숌은 자신이 조지 루카스와 피터 잭슨을 뛰어넘는다는 것을 보여주기 위해서 영화 제목을 좀 다르게 만들기로 했다.\n",
        "\n",
        "종말의 수란 어떤 수에 6이 적어도 3개 이상 연속으로 들어가는 수를 말한다. 제일 작은 종말의 수는 666이고, 그 다음으로 큰 수는 1666, 2666, 3666, .... 이다. 따라서, 숌은 첫 번째 영화의 제목은 \"세상의 종말 666\", 두 번째 영화의 제목은 \"세상의 종말 1666\"와 같이 이름을 지을 것이다. 일반화해서 생각하면, N번째 영화의 제목은 세상의 종말 (N번째로 작은 종말의 수) 와 같다.\n",
        "\n",
        "숌이 만든 N번째 영화의 제목에 들어간 수를 출력하는 프로그램을 작성하시오. 숌은 이 시리즈를 항상 차례대로 만들고, 다른 영화는 만들지 않는다.\n",
        "\n",
        "입력\n",
        "첫째 줄에 N이 주어진다. N은 10,000보다 작거나 같은 자연수이다.\n",
        "\n",
        "출력\n",
        "첫째 줄에 N번째 영화의 제목에 들어간 수를 출력한다."
      ],
      "metadata": {
        "id": "3WWkNUkXe1n8"
      }
    },
    {
      "cell_type": "code",
      "execution_count": 62,
      "metadata": {
        "colab": {
          "base_uri": "https://localhost:8080/"
        },
        "id": "zw6nYezLedYY",
        "outputId": "19acb179-0a0b-480a-c829-860f45dc914f"
      },
      "outputs": [
        {
          "name": "stdout",
          "output_type": "stream",
          "text": [
            "500\n"
          ]
        }
      ],
      "source": [
        "# 666이 들어간 모든숫자 만들기 -> 정렬\n",
        "\n",
        "N = int(input())"
      ]
    },
    {
      "cell_type": "code",
      "source": [
        "i = 666\n",
        "count =0\n",
        "while count < N :\n",
        "\n",
        "    if '666' in str(i):\n",
        "        i +=1\n",
        "        count +=1\n",
        "    else :\n",
        "        i +=1\n",
        "print(count)\n",
        "print(i-1)\n"
      ],
      "metadata": {
        "colab": {
          "base_uri": "https://localhost:8080/"
        },
        "id": "8MOpuBDkokBh",
        "outputId": "dad9c0cd-038f-4be3-ada1-6b4032b117b3"
      },
      "execution_count": 63,
      "outputs": [
        {
          "output_type": "stream",
          "name": "stdout",
          "text": [
            "500\n",
            "166699\n"
          ]
        }
      ]
    },
    {
      "cell_type": "code",
      "source": [],
      "metadata": {
        "id": "HYN1w08juIUK"
      },
      "execution_count": null,
      "outputs": []
    },
    {
      "cell_type": "markdown",
      "source": [
        "# 설탕배달문제\n",
        "상근이는 요즘 설탕공장에서 설탕을 배달하고 있다. 상근이는 지금 사탕가게에 설탕을 정확하게 N킬로그램을 배달해야 한다. 설탕공장에서 만드는 설탕은 봉지에 담겨져 있다. 봉지는 3킬로그램 봉지와 5킬로그램 봉지가 있다.\n",
        "\n",
        "상근이는 귀찮기 때문에, 최대한 적은 봉지를 들고 가려고 한다. 예를 들어, 18킬로그램 설탕을 배달해야 할 때, 3킬로그램 봉지 6개를 가져가도 되지만, 5킬로그램 3개와 3킬로그램 1개를 배달하면, 더 적은 개수의 봉지를 배달할 수 있다.\n",
        "\n",
        "상근이가 설탕을 정확하게 N킬로그램 배달해야 할 때, 봉지 몇 개를 가져가면 되는지 그 수를 구하는 프로그램을 작성하시오.\n",
        "\n",
        "입력\n",
        "첫째 줄에 N이 주어진다. (3 ≤ N ≤ 5000)\n",
        "\n",
        "출력\n",
        "상근이가 배달하는 봉지의 최소 개수를 출력한다. 만약, 정확하게 N킬로그램을 만들 수 없다면 -1을 출력한다.\n",
        "\n"
      ],
      "metadata": {
        "id": "5K6wwkFZuUCP"
      }
    },
    {
      "cell_type": "code",
      "source": [
        "N=int(input())\n",
        "\n",
        "\n",
        "sum=[]\n",
        "minus=[]\n",
        "for i in range(1001):\n",
        "  for j in range(3000):\n",
        "    if(i*5+j*3 == N):\n",
        "      sum.append(i+j)\n",
        "if len(sum)==0:\n",
        "  print(-1)\n",
        "else:\n",
        "  print(min(sum))\n"
      ],
      "metadata": {
        "colab": {
          "base_uri": "https://localhost:8080/"
        },
        "id": "ckM79hnxxs5i",
        "outputId": "308cf822-5331-4923-c86e-67c8dba98487"
      },
      "execution_count": 76,
      "outputs": [
        {
          "output_type": "stream",
          "name": "stdout",
          "text": [
            "5000\n",
            "1000\n"
          ]
        }
      ]
    },
    {
      "cell_type": "code",
      "source": [],
      "metadata": {
        "id": "NRaMiN2J04RZ"
      },
      "execution_count": null,
      "outputs": []
    }
  ]
}