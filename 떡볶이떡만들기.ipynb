{
  "nbformat": 4,
  "nbformat_minor": 0,
  "metadata": {
    "colab": {
      "provenance": [],
      "authorship_tag": "ABX9TyMy5hHUqddEb3ajMs7a2uaN",
      "include_colab_link": true
    },
    "kernelspec": {
      "name": "python3",
      "display_name": "Python 3"
    },
    "language_info": {
      "name": "python"
    }
  },
  "cells": [
    {
      "cell_type": "markdown",
      "metadata": {
        "id": "view-in-github",
        "colab_type": "text"
      },
      "source": [
        "<a href=\"https://colab.research.google.com/github/joony0512/short_codes/blob/main/%EB%96%A1%EB%B3%B6%EC%9D%B4%EB%96%A1%EB%A7%8C%EB%93%A4%EA%B8%B0.ipynb\" target=\"_parent\"><img src=\"https://colab.research.google.com/assets/colab-badge.svg\" alt=\"Open In Colab\"/></a>"
      ]
    },
    {
      "cell_type": "markdown",
      "source": [
        "# 떡볶이떡만들기"
      ],
      "metadata": {
        "id": "eTWqxsM0qHHb"
      }
    },
    {
      "cell_type": "code",
      "execution_count": 10,
      "metadata": {
        "id": "kURUvO_8qEyv"
      },
      "outputs": [],
      "source": [
        "def solution(N, H, M): # 갖고있는 떡의 개수,  갖고있는 떡의 개별 높이, 요청받은 떡의 길이\n",
        "    # 적어도 M만큼의 떡을 집에 가져가기 위해 절단기에 설정 할 수 있는 높이의 최댓값을 출력\n",
        "    start = 0\n",
        "    end = max(H)\n",
        "\n",
        "\n",
        "\n",
        "    result =0\n",
        "    while start <=end :\n",
        "        dduck =0 # 내가 절단기로 자른양\n",
        "        mid = (start + end) //2\n",
        "\n",
        "        for i in range(N):\n",
        "            if H[i] - mid >=0:\n",
        "                dduck += H[i] - mid\n",
        "            else :\n",
        "                dduck += 0\n",
        "\n",
        "        if dduck == M :\n",
        "            return mid\n",
        "\n",
        "        elif dduck < M :\n",
        "            end = mid - 1\n",
        "        else :\n",
        "            result = mid\n",
        "            start = mid + 1\n",
        "\n",
        "    return result"
      ]
    },
    {
      "cell_type": "code",
      "source": [
        "solution(N = 4, H = [19,14,10,17], M = 6)"
      ],
      "metadata": {
        "colab": {
          "base_uri": "https://localhost:8080/"
        },
        "id": "c-8d4IF0uDY_",
        "outputId": "b8643926-5e4b-449d-823d-ea3ee523e8d8"
      },
      "execution_count": 11,
      "outputs": [
        {
          "output_type": "execute_result",
          "data": {
            "text/plain": [
              "15"
            ]
          },
          "metadata": {},
          "execution_count": 11
        }
      ]
    },
    {
      "cell_type": "markdown",
      "source": [],
      "metadata": {
        "id": "ltxUw39vvoVp"
      }
    },
    {
      "cell_type": "code",
      "source": [],
      "metadata": {
        "id": "72X-1vFDuM89"
      },
      "execution_count": null,
      "outputs": []
    }
  ]
}