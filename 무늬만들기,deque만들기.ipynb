{
  "nbformat": 4,
  "nbformat_minor": 0,
  "metadata": {
    "colab": {
      "provenance": [],
      "authorship_tag": "ABX9TyPO7i3C5jBvr7IreANj7IoP",
      "include_colab_link": true
    },
    "kernelspec": {
      "name": "python3",
      "display_name": "Python 3"
    },
    "language_info": {
      "name": "python"
    }
  },
  "cells": [
    {
      "cell_type": "markdown",
      "metadata": {
        "id": "view-in-github",
        "colab_type": "text"
      },
      "source": [
        "<a href=\"https://colab.research.google.com/github/joony0512/short_codes/blob/main/%EB%AC%B4%EB%8A%AC%EB%A7%8C%EB%93%A4%EA%B8%B0%2Cdeque%EB%A7%8C%EB%93%A4%EA%B8%B0.ipynb\" target=\"_parent\"><img src=\"https://colab.research.google.com/assets/colab-badge.svg\" alt=\"Open In Colab\"/></a>"
      ]
    },
    {
      "cell_type": "markdown",
      "source": [
        "# 무늬 만들기"
      ],
      "metadata": {
        "id": "mXXTpTMvKt7_"
      }
    },
    {
      "cell_type": "code",
      "source": [
        "n = int(input())\n",
        "b =' '\n",
        "s ='*'\n",
        "\n",
        "for i in range(1,n+1):\n",
        "    print((n-i)*b + s*(i*2-1) + (n-i)*b)\n",
        "\n",
        "for i in range(1,n):\n",
        "    print(i*b + (2*n-1 -2*i)*s + i*b)\n",
        "\n"
      ],
      "metadata": {
        "colab": {
          "base_uri": "https://localhost:8080/"
        },
        "id": "88GOxFMq3dVa",
        "outputId": "b8abd1c1-8d2d-4893-d3ff-cfc9fa2769de"
      },
      "execution_count": null,
      "outputs": [
        {
          "output_type": "stream",
          "name": "stdout",
          "text": [
            "5\n",
            "    *    \n",
            "   ***   \n",
            "  *****  \n",
            " ******* \n",
            "*********\n",
            " ******* \n",
            "  *****  \n",
            "   ***   \n",
            "    *    \n"
          ]
        }
      ]
    },
    {
      "cell_type": "markdown",
      "source": [
        "# Deque 구현"
      ],
      "metadata": {
        "id": "HuKX9NdnKrbD"
      }
    },
    {
      "cell_type": "code",
      "source": [
        "import sys\n",
        "from collections import deque\n",
        "\n",
        "N = int(input())\n",
        "queue = deque()\n",
        "\n",
        "for i in range(N):\n",
        "    data = sys.stdin.readline().rstrip().split()\n",
        "    data2 = data[0]\n",
        "\n",
        "    if data2 == 'push_front':\n",
        "        queue.appendleft(int(data[1]))\n",
        "    elif data2 == 'push_back':\n",
        "        queue.append(int(data[1]))\n",
        "    elif data2 == 'pop_front':\n",
        "        if queue:\n",
        "            print(queue.popleft())\n",
        "        else:\n",
        "            print(-1)\n",
        "    elif data2 == 'pop_back':\n",
        "        if queue:\n",
        "            print(queue.pop())\n",
        "        else:\n",
        "            print(-1)\n",
        "    elif data2 == 'size':\n",
        "        print(len(queue))\n",
        "    elif data2 == 'empty':\n",
        "        if queue:\n",
        "            print(0)\n",
        "        else:\n",
        "            print(1)\n",
        "    elif data2 == 'front':\n",
        "        if queue:\n",
        "            print(queue[0])\n",
        "        else:\n",
        "            print(-1)\n",
        "    elif data2 == 'back':\n",
        "        if queue:\n",
        "            print(queue[-1])\n",
        "        else:\n",
        "            print(-1)\n"
      ],
      "metadata": {
        "id": "YbAOpCPR3dwe"
      },
      "execution_count": null,
      "outputs": []
    },
    {
      "cell_type": "code",
      "source": [],
      "metadata": {
        "colab": {
          "base_uri": "https://localhost:8080/",
          "height": 36
        },
        "id": "-m80OpfdAh1Q",
        "outputId": "8e1e6a35-eaea-4b2b-a2fe-36957a31e5d2"
      },
      "execution_count": null,
      "outputs": [
        {
          "output_type": "execute_result",
          "data": {
            "text/plain": [
              "''"
            ],
            "application/vnd.google.colaboratory.intrinsic+json": {
              "type": "string"
            }
          },
          "metadata": {},
          "execution_count": 38
        }
      ]
    },
    {
      "cell_type": "code",
      "source": [],
      "metadata": {
        "id": "_oQn8cR3AinA"
      },
      "execution_count": null,
      "outputs": []
    }
  ]
}