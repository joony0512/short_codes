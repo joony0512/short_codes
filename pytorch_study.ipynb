{
  "nbformat": 4,
  "nbformat_minor": 0,
  "metadata": {
    "colab": {
      "provenance": [],
      "gpuType": "T4",
      "authorship_tag": "ABX9TyPSVIW3/HzswgykGJN0m8IO",
      "include_colab_link": true
    },
    "kernelspec": {
      "name": "python3",
      "display_name": "Python 3"
    },
    "language_info": {
      "name": "python"
    },
    "accelerator": "GPU"
  },
  "cells": [
    {
      "cell_type": "markdown",
      "metadata": {
        "id": "view-in-github",
        "colab_type": "text"
      },
      "source": [
        "<a href=\"https://colab.research.google.com/github/joony0512/short_codes/blob/main/pytorch_study.ipynb\" target=\"_parent\"><img src=\"https://colab.research.google.com/assets/colab-badge.svg\" alt=\"Open In Colab\"/></a>"
      ]
    },
    {
      "cell_type": "markdown",
      "source": [
        "# mnist fashion data로 전체 precess"
      ],
      "metadata": {
        "id": "_R9NAy8NPego"
      }
    },
    {
      "cell_type": "code",
      "execution_count": 1,
      "metadata": {
        "id": "357M3O7o6D8z"
      },
      "outputs": [],
      "source": [
        "import torch\n",
        "from torch import nn\n",
        "from torch.utils.data import DataLoader\n",
        "from torchvision import datasets\n",
        "from torchvision.transforms import ToTensor"
      ]
    },
    {
      "cell_type": "code",
      "source": [
        "# Download training data from open datasets.\n",
        "training_data = datasets.FashionMNIST(\n",
        "    root=\"data\",\n",
        "    train=True,\n",
        "    download=True,\n",
        "    transform=ToTensor(),\n",
        ")\n",
        "\n",
        "# Download test data from open datasets.\n",
        "test_data = datasets.FashionMNIST(\n",
        "    root=\"data\",\n",
        "    train=False,\n",
        "    download=True,\n",
        "    transform=ToTensor(),\n",
        ")"
      ],
      "metadata": {
        "colab": {
          "base_uri": "https://localhost:8080/"
        },
        "id": "ZM2enQTr6IKJ",
        "outputId": "8d55032c-668b-42a9-8f2e-b5c80cfbff23"
      },
      "execution_count": 2,
      "outputs": [
        {
          "output_type": "stream",
          "name": "stdout",
          "text": [
            "Downloading http://fashion-mnist.s3-website.eu-central-1.amazonaws.com/train-images-idx3-ubyte.gz\n",
            "Downloading http://fashion-mnist.s3-website.eu-central-1.amazonaws.com/train-images-idx3-ubyte.gz to data/FashionMNIST/raw/train-images-idx3-ubyte.gz\n"
          ]
        },
        {
          "output_type": "stream",
          "name": "stderr",
          "text": [
            "100%|██████████| 26421880/26421880 [00:02<00:00, 12296508.44it/s]\n"
          ]
        },
        {
          "output_type": "stream",
          "name": "stdout",
          "text": [
            "Extracting data/FashionMNIST/raw/train-images-idx3-ubyte.gz to data/FashionMNIST/raw\n",
            "\n",
            "Downloading http://fashion-mnist.s3-website.eu-central-1.amazonaws.com/train-labels-idx1-ubyte.gz\n",
            "Downloading http://fashion-mnist.s3-website.eu-central-1.amazonaws.com/train-labels-idx1-ubyte.gz to data/FashionMNIST/raw/train-labels-idx1-ubyte.gz\n"
          ]
        },
        {
          "output_type": "stream",
          "name": "stderr",
          "text": [
            "100%|██████████| 29515/29515 [00:00<00:00, 212131.92it/s]\n"
          ]
        },
        {
          "output_type": "stream",
          "name": "stdout",
          "text": [
            "Extracting data/FashionMNIST/raw/train-labels-idx1-ubyte.gz to data/FashionMNIST/raw\n",
            "\n",
            "Downloading http://fashion-mnist.s3-website.eu-central-1.amazonaws.com/t10k-images-idx3-ubyte.gz\n",
            "Downloading http://fashion-mnist.s3-website.eu-central-1.amazonaws.com/t10k-images-idx3-ubyte.gz to data/FashionMNIST/raw/t10k-images-idx3-ubyte.gz\n"
          ]
        },
        {
          "output_type": "stream",
          "name": "stderr",
          "text": [
            "100%|██████████| 4422102/4422102 [00:01<00:00, 3862738.93it/s]\n"
          ]
        },
        {
          "output_type": "stream",
          "name": "stdout",
          "text": [
            "Extracting data/FashionMNIST/raw/t10k-images-idx3-ubyte.gz to data/FashionMNIST/raw\n",
            "\n",
            "Downloading http://fashion-mnist.s3-website.eu-central-1.amazonaws.com/t10k-labels-idx1-ubyte.gz\n",
            "Downloading http://fashion-mnist.s3-website.eu-central-1.amazonaws.com/t10k-labels-idx1-ubyte.gz to data/FashionMNIST/raw/t10k-labels-idx1-ubyte.gz\n"
          ]
        },
        {
          "output_type": "stream",
          "name": "stderr",
          "text": [
            "100%|██████████| 5148/5148 [00:00<00:00, 8238182.75it/s]"
          ]
        },
        {
          "output_type": "stream",
          "name": "stdout",
          "text": [
            "Extracting data/FashionMNIST/raw/t10k-labels-idx1-ubyte.gz to data/FashionMNIST/raw\n",
            "\n"
          ]
        },
        {
          "output_type": "stream",
          "name": "stderr",
          "text": [
            "\n"
          ]
        }
      ]
    },
    {
      "cell_type": "code",
      "source": [
        "batch_size = 64\n",
        "train_dataloader = DataLoader(training_data, batch_size = batch_size, shuffle = True)\n",
        "test_dataloader = DataLoader(test_data, batch_size = batch_size)"
      ],
      "metadata": {
        "id": "cj9n1L796Mvw"
      },
      "execution_count": 14,
      "outputs": []
    },
    {
      "cell_type": "code",
      "source": [
        "print(len(train_dataloader))\n",
        "print(len(train_dataloader.dataset)/batch_size)\n",
        "print(100%100)"
      ],
      "metadata": {
        "colab": {
          "base_uri": "https://localhost:8080/"
        },
        "id": "T1uhAyVZC4x2",
        "outputId": "bbd26780-3980-4214-cbf3-9c75a518b3e0"
      },
      "execution_count": 23,
      "outputs": [
        {
          "output_type": "stream",
          "name": "stdout",
          "text": [
            "938\n",
            "937.5\n",
            "0\n"
          ]
        }
      ]
    },
    {
      "cell_type": "code",
      "source": [
        "for X, y in test_dataloader:\n",
        "    print(X.shape)\n",
        "    print(y, y.shape, y.dtype)\n",
        "    break\n",
        ""
      ],
      "metadata": {
        "colab": {
          "base_uri": "https://localhost:8080/"
        },
        "id": "jJ_I78ww6PyY",
        "outputId": "d89c0c41-198c-4c3f-8f89-b607429e4f1e"
      },
      "execution_count": 25,
      "outputs": [
        {
          "output_type": "stream",
          "name": "stdout",
          "text": [
            "torch.Size([64, 1, 28, 28])\n",
            "tensor([9, 2, 1, 1, 6, 1, 4, 6, 5, 7, 4, 5, 7, 3, 4, 1, 2, 4, 8, 0, 2, 5, 7, 9,\n",
            "        1, 4, 6, 0, 9, 3, 8, 8, 3, 3, 8, 0, 7, 5, 7, 9, 6, 1, 3, 7, 6, 7, 2, 1,\n",
            "        2, 2, 4, 4, 5, 8, 2, 2, 8, 4, 8, 0, 7, 7, 8, 5]) torch.Size([64]) torch.int64\n"
          ]
        }
      ]
    },
    {
      "cell_type": "code",
      "source": [
        "!ls -al\n"
      ],
      "metadata": {
        "colab": {
          "base_uri": "https://localhost:8080/"
        },
        "id": "PZ74uNQL6SBB",
        "outputId": "057e95c1-1e22-442c-a93d-824d617c45fd"
      },
      "execution_count": 7,
      "outputs": [
        {
          "output_type": "stream",
          "name": "stdout",
          "text": [
            "total 20\n",
            "drwxr-xr-x 1 root root 4096 Jan 14 07:38 .\n",
            "drwxr-xr-x 1 root root 4096 Jan 14 07:36 ..\n",
            "drwxr-xr-x 4 root root 4096 Jan 11 17:01 .config\n",
            "drwxr-xr-x 3 root root 4096 Jan 14 07:38 data\n",
            "drwxr-xr-x 1 root root 4096 Jan 11 17:02 sample_data\n"
          ]
        }
      ]
    },
    {
      "cell_type": "code",
      "source": [
        "device = (\n",
        "    \"cuda\"\n",
        "    if torch.cuda.is_available()\n",
        "    else \"mps\"\n",
        "    if torch.backends.mps.is_available()\n",
        "    else \"cpu\"\n",
        ")\n",
        "print(f'using {device} device')"
      ],
      "metadata": {
        "colab": {
          "base_uri": "https://localhost:8080/"
        },
        "id": "A5YDSxiK6mxs",
        "outputId": "43984d8c-e0e1-4d37-e825-07bfc63226bc"
      },
      "execution_count": 9,
      "outputs": [
        {
          "output_type": "stream",
          "name": "stdout",
          "text": [
            "using cuda device\n"
          ]
        }
      ]
    },
    {
      "cell_type": "code",
      "source": [
        "class NeuralNetwork(nn.Module):\n",
        "  def __init__(self):\n",
        "    super().__init__()\n",
        "    self.flatten = nn.Flatten()\n",
        "    self.linear_relu_stack = nn.Sequential(\n",
        "        nn.Linear(28*28, 512),\n",
        "        nn.ReLU(),\n",
        "        nn.Linear(512, 512),\n",
        "        nn.ReLU(),\n",
        "        nn.Linear(512, 10)\n",
        "    )\n",
        "  def forward(self, x):\n",
        "    x = self.flatten(x)\n",
        "    logits = self.linear_relu_stack(x)\n",
        "    return  logits\n",
        "\n",
        "model = NeuralNetwork().to(device)\n",
        "print(model)"
      ],
      "metadata": {
        "colab": {
          "base_uri": "https://localhost:8080/"
        },
        "id": "xaXVF3Hh7FLj",
        "outputId": "dab6c6f8-b124-4f94-c852-718b8061d42c"
      },
      "execution_count": 31,
      "outputs": [
        {
          "output_type": "stream",
          "name": "stdout",
          "text": [
            "NeuralNetwork(\n",
            "  (flatten): Flatten(start_dim=1, end_dim=-1)\n",
            "  (linear_relu_stack): Sequential(\n",
            "    (0): Linear(in_features=784, out_features=512, bias=True)\n",
            "    (1): ReLU()\n",
            "    (2): Linear(in_features=512, out_features=512, bias=True)\n",
            "    (3): ReLU()\n",
            "    (4): Linear(in_features=512, out_features=10, bias=True)\n",
            "  )\n",
            ")\n"
          ]
        }
      ]
    },
    {
      "cell_type": "code",
      "source": [
        "loss_fn = nn.CrossEntropyLoss()\n",
        "optimizer = torch.optim.SGD(model.parameters(), lr = 1e-3)"
      ],
      "metadata": {
        "id": "QQfiokWX7R3E"
      },
      "execution_count": 13,
      "outputs": []
    },
    {
      "cell_type": "code",
      "source": [
        "def train(dataloader, model, loss_fn, optimizer):\n",
        "  size = len(dataloader.dataset)\n",
        "  model.train()\n",
        "  for batch, (X, y) in enumerate(dataloader):\n",
        "    X, y = X.to(device), y.to(device)\n",
        "\n",
        "    pred = model(X)\n",
        "    loss = loss_fn(pred, y)\n",
        "\n",
        "    loss.backward()\n",
        "    optimizer.step()\n",
        "    optimizer.zero_grad()\n",
        "\n",
        "    if batch % 100 ==0:\n",
        "      loss, current = loss.item(), (batch +1) * len(X)\n",
        "      print(f'loss : {loss :>7f} [{current :>5d} / {size:>5d}]')"
      ],
      "metadata": {
        "id": "jiozd2Qe8gaa"
      },
      "execution_count": 16,
      "outputs": []
    },
    {
      "cell_type": "code",
      "source": [
        "def test(dataloader, model, loss_fn):\n",
        "  size = len(dataloader.dataset)\n",
        "  num_batches = len(dataloader)\n",
        "  model.eval()\n",
        "  test_loss, correct = 0, 0\n",
        "  with torch.no_grad():\n",
        "    for X, y in dataloader:\n",
        "      X, y = X.to(device), y.to(device)\n",
        "      pred = model(X)\n",
        "      test_loss += loss_fn(pred, y).item()\n",
        "      correct += (pred.argmax(1) == y).type(torch.float).sum().item()\n",
        "\n",
        "\n",
        "  test_loss /= num_batches\n",
        "  correct /= size\n",
        "  print(f'test error : \\n Accuracy : {(100*correct):>0.1}%, Avg loss = {test_loss :8f} \\n')\n",
        "\n"
      ],
      "metadata": {
        "id": "S2tfGli-A0xB"
      },
      "execution_count": 26,
      "outputs": []
    },
    {
      "cell_type": "code",
      "source": [
        "epochs = 5\n",
        "\n",
        "for t in range(epochs):\n",
        "  print(f'Epoch {t+1}\\n-----------------------')\n",
        "  train(train_dataloader, model, loss_fn, optimizer)\n",
        "  test(test_dataloader, model, loss_fn)\n",
        "print(\"Done!\")"
      ],
      "metadata": {
        "colab": {
          "base_uri": "https://localhost:8080/"
        },
        "id": "eleJOaAYDlxa",
        "outputId": "f9af1778-e1be-480a-abfc-caf0e310ee72"
      },
      "execution_count": 32,
      "outputs": [
        {
          "output_type": "stream",
          "name": "stdout",
          "text": [
            "Epoch 1\n",
            "-----------------------\n",
            "loss : 2.304349 [   64 / 60000]\n",
            "loss : 2.305857 [ 6464 / 60000]\n",
            "loss : 2.307846 [12864 / 60000]\n",
            "loss : 2.302518 [19264 / 60000]\n",
            "loss : 2.309113 [25664 / 60000]\n",
            "loss : 2.303407 [32064 / 60000]\n",
            "loss : 2.308402 [38464 / 60000]\n",
            "loss : 2.305470 [44864 / 60000]\n",
            "loss : 2.300250 [51264 / 60000]\n",
            "loss : 2.293892 [57664 / 60000]\n",
            "test error : \n",
            " Accuracy : 1e+01%, Avg loss = 2.305131 \n",
            "\n",
            "Epoch 2\n",
            "-----------------------\n",
            "loss : 2.317039 [   64 / 60000]\n",
            "loss : 2.304301 [ 6464 / 60000]\n",
            "loss : 2.301216 [12864 / 60000]\n",
            "loss : 2.311356 [19264 / 60000]\n",
            "loss : 2.311881 [25664 / 60000]\n",
            "loss : 2.301802 [32064 / 60000]\n",
            "loss : 2.310298 [38464 / 60000]\n",
            "loss : 2.297364 [44864 / 60000]\n",
            "loss : 2.302684 [51264 / 60000]\n",
            "loss : 2.299112 [57664 / 60000]\n",
            "test error : \n",
            " Accuracy : 1e+01%, Avg loss = 2.305131 \n",
            "\n",
            "Epoch 3\n",
            "-----------------------\n",
            "loss : 2.297832 [   64 / 60000]\n",
            "loss : 2.300636 [ 6464 / 60000]\n",
            "loss : 2.297963 [12864 / 60000]\n",
            "loss : 2.302392 [19264 / 60000]\n",
            "loss : 2.304368 [25664 / 60000]\n",
            "loss : 2.305227 [32064 / 60000]\n",
            "loss : 2.301558 [38464 / 60000]\n",
            "loss : 2.311095 [44864 / 60000]\n",
            "loss : 2.307406 [51264 / 60000]\n",
            "loss : 2.311380 [57664 / 60000]\n",
            "test error : \n",
            " Accuracy : 1e+01%, Avg loss = 2.305131 \n",
            "\n",
            "Epoch 4\n",
            "-----------------------\n",
            "loss : 2.299041 [   64 / 60000]\n",
            "loss : 2.309647 [ 6464 / 60000]\n",
            "loss : 2.303545 [12864 / 60000]\n",
            "loss : 2.299854 [19264 / 60000]\n",
            "loss : 2.312496 [25664 / 60000]\n",
            "loss : 2.302590 [32064 / 60000]\n",
            "loss : 2.292198 [38464 / 60000]\n",
            "loss : 2.306485 [44864 / 60000]\n",
            "loss : 2.294313 [51264 / 60000]\n",
            "loss : 2.311261 [57664 / 60000]\n",
            "test error : \n",
            " Accuracy : 1e+01%, Avg loss = 2.305131 \n",
            "\n",
            "Epoch 5\n",
            "-----------------------\n",
            "loss : 2.310164 [   64 / 60000]\n",
            "loss : 2.305229 [ 6464 / 60000]\n",
            "loss : 2.298427 [12864 / 60000]\n",
            "loss : 2.306263 [19264 / 60000]\n",
            "loss : 2.290570 [25664 / 60000]\n",
            "loss : 2.297875 [32064 / 60000]\n",
            "loss : 2.310128 [38464 / 60000]\n",
            "loss : 2.306427 [44864 / 60000]\n",
            "loss : 2.305357 [51264 / 60000]\n",
            "loss : 2.304587 [57664 / 60000]\n",
            "test error : \n",
            " Accuracy : 1e+01%, Avg loss = 2.305131 \n",
            "\n",
            "Done!\n"
          ]
        }
      ]
    },
    {
      "cell_type": "code",
      "source": [
        "torch.save(model.state_dict(), 'model.pth')"
      ],
      "metadata": {
        "id": "1crPOx5cHNqv"
      },
      "execution_count": 33,
      "outputs": []
    },
    {
      "cell_type": "code",
      "source": [
        "!ls\n"
      ],
      "metadata": {
        "colab": {
          "base_uri": "https://localhost:8080/"
        },
        "id": "O2HJDN9xINP0",
        "outputId": "d405b37e-7f9b-47d1-996c-4aa8cb8f51b0"
      },
      "execution_count": 34,
      "outputs": [
        {
          "output_type": "stream",
          "name": "stdout",
          "text": [
            "data  model.pth  sample_data\n"
          ]
        }
      ]
    },
    {
      "cell_type": "code",
      "source": [
        "model = NeuralNetwork().to(device)\n",
        "model.load_state_dict(torch.load('./model.pth'))"
      ],
      "metadata": {
        "colab": {
          "base_uri": "https://localhost:8080/"
        },
        "id": "h0EJwKeFIG2x",
        "outputId": "aee3bd8f-35b3-45df-9508-9713069a18d5"
      },
      "execution_count": 36,
      "outputs": [
        {
          "output_type": "execute_result",
          "data": {
            "text/plain": [
              "<All keys matched successfully>"
            ]
          },
          "metadata": {},
          "execution_count": 36
        }
      ]
    },
    {
      "cell_type": "code",
      "source": [
        "classes = [\n",
        "    \"T-shirt/top\",\n",
        "    \"Trouser\",\n",
        "    \"Pullover\",\n",
        "    \"Dress\",\n",
        "    \"Coat\",\n",
        "    \"Sandal\",\n",
        "    \"Shirt\",\n",
        "    \"Sneaker\",\n",
        "    \"Bag\",\n",
        "    \"Ankle boot\",\n",
        "]"
      ],
      "metadata": {
        "id": "xwxsQDEcIUB1"
      },
      "execution_count": 37,
      "outputs": []
    },
    {
      "cell_type": "code",
      "source": [
        "test_dataloader"
      ],
      "metadata": {
        "colab": {
          "base_uri": "https://localhost:8080/"
        },
        "id": "Mgre0glrIhoy",
        "outputId": "02159a1a-0a26-4a89-d374-9d5e5cce981d"
      },
      "execution_count": 41,
      "outputs": [
        {
          "output_type": "execute_result",
          "data": {
            "text/plain": [
              "(tensor([[[0.0000, 0.0000, 0.0000, 0.0000, 0.0000, 0.0000, 0.0000, 0.0000,\n",
              "           0.0000, 0.0000, 0.0000, 0.0000, 0.0000, 0.0000, 0.0000, 0.0000,\n",
              "           0.0000, 0.0000, 0.0000, 0.0000, 0.0000, 0.0000, 0.0000, 0.0000,\n",
              "           0.0000, 0.0000, 0.0000, 0.0000],\n",
              "          [0.0000, 0.0000, 0.0000, 0.0000, 0.0000, 0.0000, 0.0000, 0.0000,\n",
              "           0.0000, 0.0000, 0.0000, 0.0000, 0.0000, 0.0000, 0.0000, 0.0000,\n",
              "           0.0000, 0.0000, 0.0000, 0.0000, 0.0000, 0.0000, 0.0000, 0.0000,\n",
              "           0.0000, 0.0000, 0.0000, 0.0000],\n",
              "          [0.0000, 0.0000, 0.0000, 0.0000, 0.0000, 0.0000, 0.0000, 0.0000,\n",
              "           0.0000, 0.0000, 0.0000, 0.0000, 0.0000, 0.0000, 0.0000, 0.0000,\n",
              "           0.0000, 0.0000, 0.0000, 0.0000, 0.0000, 0.0000, 0.0000, 0.0000,\n",
              "           0.0000, 0.0000, 0.0000, 0.0000],\n",
              "          [0.0000, 0.0000, 0.0000, 0.0000, 0.0000, 0.0000, 0.0000, 0.0000,\n",
              "           0.0000, 0.0000, 0.0000, 0.0000, 0.0000, 0.0000, 0.0000, 0.0000,\n",
              "           0.0000, 0.0000, 0.0000, 0.0000, 0.0000, 0.0000, 0.0000, 0.0000,\n",
              "           0.0000, 0.0000, 0.0000, 0.0000],\n",
              "          [0.0000, 0.0000, 0.0000, 0.0000, 0.0000, 0.0000, 0.0000, 0.0000,\n",
              "           0.0000, 0.0000, 0.0000, 0.0000, 0.0000, 0.0000, 0.0000, 0.0000,\n",
              "           0.0000, 0.0000, 0.0000, 0.0000, 0.0000, 0.0000, 0.0000, 0.0000,\n",
              "           0.0000, 0.0000, 0.0000, 0.0000],\n",
              "          [0.0000, 0.0000, 0.0000, 0.0000, 0.0000, 0.0000, 0.0000, 0.0000,\n",
              "           0.0000, 0.0000, 0.0000, 0.0000, 0.0000, 0.0000, 0.0000, 0.0000,\n",
              "           0.0000, 0.0000, 0.0000, 0.0000, 0.0000, 0.0000, 0.0000, 0.0000,\n",
              "           0.0000, 0.0000, 0.0000, 0.0000],\n",
              "          [0.0000, 0.0000, 0.0000, 0.0000, 0.0000, 0.0000, 0.0000, 0.0000,\n",
              "           0.0000, 0.0000, 0.0000, 0.0000, 0.0000, 0.0000, 0.0000, 0.0000,\n",
              "           0.0000, 0.0000, 0.0000, 0.0000, 0.0000, 0.0000, 0.0000, 0.0000,\n",
              "           0.0000, 0.0000, 0.0000, 0.0000],\n",
              "          [0.0000, 0.0000, 0.0000, 0.0000, 0.0000, 0.0000, 0.0000, 0.0000,\n",
              "           0.0000, 0.0000, 0.0000, 0.0000, 0.0000, 0.0000, 0.0000, 0.0000,\n",
              "           0.0000, 0.0000, 0.0000, 0.0118, 0.0039, 0.0000, 0.0000, 0.0275,\n",
              "           0.0000, 0.1451, 0.0000, 0.0000],\n",
              "          [0.0000, 0.0000, 0.0000, 0.0000, 0.0000, 0.0000, 0.0000, 0.0000,\n",
              "           0.0000, 0.0000, 0.0000, 0.0000, 0.0000, 0.0039, 0.0078, 0.0000,\n",
              "           0.1059, 0.3294, 0.0431, 0.0000, 0.0000, 0.0000, 0.0000, 0.0000,\n",
              "           0.0000, 0.4667, 0.0000, 0.0000],\n",
              "          [0.0000, 0.0000, 0.0000, 0.0000, 0.0000, 0.0000, 0.0000, 0.0000,\n",
              "           0.0000, 0.0000, 0.0000, 0.0000, 0.0000, 0.0039, 0.0000, 0.0000,\n",
              "           0.3451, 0.5608, 0.4314, 0.0000, 0.0000, 0.0000, 0.0000, 0.0863,\n",
              "           0.3647, 0.4157, 0.0000, 0.0000],\n",
              "          [0.0000, 0.0000, 0.0000, 0.0000, 0.0000, 0.0000, 0.0000, 0.0000,\n",
              "           0.0000, 0.0000, 0.0000, 0.0000, 0.0000, 0.0157, 0.0000, 0.2078,\n",
              "           0.5059, 0.4706, 0.5765, 0.6863, 0.6157, 0.6510, 0.5294, 0.6039,\n",
              "           0.6588, 0.5490, 0.0000, 0.0000],\n",
              "          [0.0000, 0.0000, 0.0000, 0.0000, 0.0000, 0.0000, 0.0000, 0.0000,\n",
              "           0.0000, 0.0000, 0.0000, 0.0000, 0.0078, 0.0000, 0.0431, 0.5373,\n",
              "           0.5098, 0.5020, 0.6275, 0.6902, 0.6235, 0.6549, 0.6980, 0.5843,\n",
              "           0.5922, 0.5647, 0.0000, 0.0000],\n",
              "          [0.0000, 0.0000, 0.0000, 0.0000, 0.0000, 0.0000, 0.0039, 0.0000,\n",
              "           0.0078, 0.0039, 0.0000, 0.0118, 0.0000, 0.0000, 0.4510, 0.4471,\n",
              "           0.4157, 0.5373, 0.6588, 0.6000, 0.6118, 0.6471, 0.6549, 0.5608,\n",
              "           0.6157, 0.6196, 0.0431, 0.0000],\n",
              "          [0.0000, 0.0000, 0.0000, 0.0000, 0.0039, 0.0000, 0.0000, 0.0000,\n",
              "           0.0000, 0.0000, 0.0118, 0.0000, 0.0000, 0.3490, 0.5451, 0.3529,\n",
              "           0.3686, 0.6000, 0.5843, 0.5137, 0.5922, 0.6627, 0.6745, 0.5608,\n",
              "           0.6235, 0.6627, 0.1882, 0.0000],\n",
              "          [0.0000, 0.0000, 0.0000, 0.0000, 0.0000, 0.0000, 0.0078, 0.0157,\n",
              "           0.0039, 0.0000, 0.0000, 0.0000, 0.3843, 0.5333, 0.4314, 0.4275,\n",
              "           0.4314, 0.6353, 0.5294, 0.5647, 0.5843, 0.6235, 0.6549, 0.5647,\n",
              "           0.6196, 0.6627, 0.4667, 0.0000],\n",
              "          [0.0000, 0.0000, 0.0078, 0.0078, 0.0039, 0.0078, 0.0000, 0.0000,\n",
              "           0.0000, 0.0000, 0.1020, 0.4235, 0.4588, 0.3882, 0.4353, 0.4588,\n",
              "           0.5333, 0.6118, 0.5255, 0.6039, 0.6039, 0.6118, 0.6275, 0.5529,\n",
              "           0.5765, 0.6118, 0.6980, 0.0000],\n",
              "          [0.0118, 0.0000, 0.0000, 0.0000, 0.0000, 0.0000, 0.0000, 0.0824,\n",
              "           0.2078, 0.3608, 0.4588, 0.4353, 0.4039, 0.4510, 0.5059, 0.5255,\n",
              "           0.5608, 0.6039, 0.6471, 0.6667, 0.6039, 0.5922, 0.6039, 0.5608,\n",
              "           0.5412, 0.5882, 0.6471, 0.1686],\n",
              "          [0.0000, 0.0000, 0.0902, 0.2118, 0.2549, 0.2980, 0.3333, 0.4627,\n",
              "           0.5020, 0.4824, 0.4353, 0.4431, 0.4627, 0.4980, 0.4902, 0.5451,\n",
              "           0.5216, 0.5333, 0.6275, 0.5490, 0.6078, 0.6314, 0.5647, 0.6078,\n",
              "           0.6745, 0.6314, 0.7412, 0.2431],\n",
              "          [0.0000, 0.2667, 0.3686, 0.3529, 0.4353, 0.4471, 0.4353, 0.4471,\n",
              "           0.4510, 0.4980, 0.5294, 0.5333, 0.5608, 0.4941, 0.4980, 0.5922,\n",
              "           0.6039, 0.5608, 0.5804, 0.4902, 0.6353, 0.6353, 0.5647, 0.5412,\n",
              "           0.6000, 0.6353, 0.7686, 0.2275],\n",
              "          [0.2745, 0.6627, 0.5059, 0.4078, 0.3843, 0.3922, 0.3686, 0.3804,\n",
              "           0.3843, 0.4000, 0.4235, 0.4157, 0.4667, 0.4706, 0.5059, 0.5843,\n",
              "           0.6118, 0.6549, 0.7451, 0.7451, 0.7686, 0.7765, 0.7765, 0.7333,\n",
              "           0.7725, 0.7412, 0.7216, 0.1412],\n",
              "          [0.0627, 0.4941, 0.6706, 0.7373, 0.7373, 0.7216, 0.6706, 0.6000,\n",
              "           0.5294, 0.4706, 0.4941, 0.4980, 0.5725, 0.7255, 0.7647, 0.8196,\n",
              "           0.8157, 1.0000, 0.8196, 0.6941, 0.9608, 0.9882, 0.9843, 0.9843,\n",
              "           0.9686, 0.8627, 0.8078, 0.1922],\n",
              "          [0.0000, 0.0000, 0.0000, 0.0471, 0.2627, 0.4157, 0.6431, 0.7255,\n",
              "           0.7804, 0.8235, 0.8275, 0.8235, 0.8157, 0.7451, 0.5882, 0.3216,\n",
              "           0.0314, 0.0000, 0.0000, 0.0000, 0.6980, 0.8157, 0.7373, 0.6863,\n",
              "           0.6353, 0.6196, 0.5922, 0.0431],\n",
              "          [0.0000, 0.0000, 0.0000, 0.0000, 0.0000, 0.0000, 0.0000, 0.0000,\n",
              "           0.0000, 0.0000, 0.0000, 0.0000, 0.0000, 0.0000, 0.0000, 0.0000,\n",
              "           0.0000, 0.0000, 0.0000, 0.0000, 0.0000, 0.0000, 0.0000, 0.0000,\n",
              "           0.0000, 0.0000, 0.0000, 0.0000],\n",
              "          [0.0000, 0.0000, 0.0000, 0.0000, 0.0000, 0.0000, 0.0000, 0.0000,\n",
              "           0.0000, 0.0000, 0.0000, 0.0000, 0.0000, 0.0000, 0.0000, 0.0000,\n",
              "           0.0000, 0.0000, 0.0000, 0.0000, 0.0000, 0.0000, 0.0000, 0.0000,\n",
              "           0.0000, 0.0000, 0.0000, 0.0000],\n",
              "          [0.0000, 0.0000, 0.0000, 0.0000, 0.0000, 0.0000, 0.0000, 0.0000,\n",
              "           0.0000, 0.0000, 0.0000, 0.0000, 0.0000, 0.0000, 0.0000, 0.0000,\n",
              "           0.0000, 0.0000, 0.0000, 0.0000, 0.0000, 0.0000, 0.0000, 0.0000,\n",
              "           0.0000, 0.0000, 0.0000, 0.0000],\n",
              "          [0.0000, 0.0000, 0.0000, 0.0000, 0.0000, 0.0000, 0.0000, 0.0000,\n",
              "           0.0000, 0.0000, 0.0000, 0.0000, 0.0000, 0.0000, 0.0000, 0.0000,\n",
              "           0.0000, 0.0000, 0.0000, 0.0000, 0.0000, 0.0000, 0.0000, 0.0000,\n",
              "           0.0000, 0.0000, 0.0000, 0.0000],\n",
              "          [0.0000, 0.0000, 0.0000, 0.0000, 0.0000, 0.0000, 0.0000, 0.0000,\n",
              "           0.0000, 0.0000, 0.0000, 0.0000, 0.0000, 0.0000, 0.0000, 0.0000,\n",
              "           0.0000, 0.0000, 0.0000, 0.0000, 0.0000, 0.0000, 0.0000, 0.0000,\n",
              "           0.0000, 0.0000, 0.0000, 0.0000],\n",
              "          [0.0000, 0.0000, 0.0000, 0.0000, 0.0000, 0.0000, 0.0000, 0.0000,\n",
              "           0.0000, 0.0000, 0.0000, 0.0000, 0.0000, 0.0000, 0.0000, 0.0000,\n",
              "           0.0000, 0.0000, 0.0000, 0.0000, 0.0000, 0.0000, 0.0000, 0.0000,\n",
              "           0.0000, 0.0000, 0.0000, 0.0000]]]),\n",
              " 9)"
            ]
          },
          "metadata": {},
          "execution_count": 41
        }
      ]
    },
    {
      "cell_type": "code",
      "source": [
        "model.eval()\n",
        "x, y = test_data[0][0], test_data[0][1]\n",
        "\n",
        "\n",
        "with torch.no_grad():\n",
        "  x = x.to(device)\n",
        "  pred = model(x)\n",
        "  print(pred)\n",
        "  predicted, actual = classes[pred[0].argmax(0)], classes[y]\n",
        "  print(f'Predicted : \"{predicted}\", Actual: \"{actual}\"')\n"
      ],
      "metadata": {
        "colab": {
          "base_uri": "https://localhost:8080/"
        },
        "id": "GzwrQB0aIZQm",
        "outputId": "db216400-6c76-4d8a-c161-05cfdae3c80b"
      },
      "execution_count": 42,
      "outputs": [
        {
          "output_type": "stream",
          "name": "stdout",
          "text": [
            "tensor([[-0.0123, -0.0573,  0.0377,  0.0391,  0.0016, -0.0672,  0.0077,  0.0176,\n",
            "          0.0004, -0.0419]], device='cuda:0')\n",
            "Predicted : \"Dress\", Actual: \"Ankle boot\"\n"
          ]
        }
      ]
    },
    {
      "cell_type": "code",
      "source": [
        "pred[0].argmax(0)"
      ],
      "metadata": {
        "colab": {
          "base_uri": "https://localhost:8080/"
        },
        "id": "AtH9PDCdJO_-",
        "outputId": "609cd353-f712-4292-80df-fda8734e0530"
      },
      "execution_count": 47,
      "outputs": [
        {
          "output_type": "execute_result",
          "data": {
            "text/plain": [
              "tensor(3, device='cuda:0')"
            ]
          },
          "metadata": {},
          "execution_count": 47
        }
      ]
    },
    {
      "cell_type": "code",
      "source": [
        "model.eval()\n",
        "test_loss, correct = 0, 0\n",
        "with torch.no_grad():\n",
        "    for X, y in test_dataloader:\n",
        "      X, y = X.to(device), y\n",
        "      pred = model(X)\n",
        "      # print(pred.shape)\n",
        "      # print(pred.argmax(1))\n",
        "      break\n",
        "\n",
        "    for i, p in enumerate(pred.argmax(1)):\n",
        "        # print(p.type(torch.float))\n",
        "        predicted, actual = classes[p], classes[y[i]]\n",
        "        print(f'Predicted : \"{predicted}\", Actual: \"{actual}\", index: {i}')\n",
        "        # break\n"
      ],
      "metadata": {
        "colab": {
          "base_uri": "https://localhost:8080/"
        },
        "id": "OEBUvUydJZjO",
        "outputId": "7af41178-3af8-4ed7-b455-53e4ca212053"
      },
      "execution_count": 68,
      "outputs": [
        {
          "output_type": "stream",
          "name": "stdout",
          "text": [
            "Predicted : \"Dress\", Actual: \"Ankle boot\", index: 0\n",
            "Predicted : \"Pullover\", Actual: \"Pullover\", index: 1\n",
            "Predicted : \"Dress\", Actual: \"Trouser\", index: 2\n",
            "Predicted : \"Sneaker\", Actual: \"Trouser\", index: 3\n",
            "Predicted : \"Pullover\", Actual: \"Shirt\", index: 4\n",
            "Predicted : \"Pullover\", Actual: \"Trouser\", index: 5\n",
            "Predicted : \"Dress\", Actual: \"Coat\", index: 6\n",
            "Predicted : \"Dress\", Actual: \"Shirt\", index: 7\n",
            "Predicted : \"Dress\", Actual: \"Sandal\", index: 8\n",
            "Predicted : \"Sneaker\", Actual: \"Sneaker\", index: 9\n",
            "Predicted : \"Pullover\", Actual: \"Coat\", index: 10\n",
            "Predicted : \"Dress\", Actual: \"Sandal\", index: 11\n",
            "Predicted : \"Dress\", Actual: \"Sneaker\", index: 12\n",
            "Predicted : \"Pullover\", Actual: \"Dress\", index: 13\n",
            "Predicted : \"Sneaker\", Actual: \"Coat\", index: 14\n",
            "Predicted : \"Pullover\", Actual: \"Trouser\", index: 15\n",
            "Predicted : \"Pullover\", Actual: \"Pullover\", index: 16\n",
            "Predicted : \"Pullover\", Actual: \"Coat\", index: 17\n",
            "Predicted : \"Pullover\", Actual: \"Bag\", index: 18\n",
            "Predicted : \"Pullover\", Actual: \"T-shirt/top\", index: 19\n",
            "Predicted : \"Pullover\", Actual: \"Pullover\", index: 20\n",
            "Predicted : \"Sneaker\", Actual: \"Sandal\", index: 21\n",
            "Predicted : \"Shirt\", Actual: \"Sneaker\", index: 22\n",
            "Predicted : \"Pullover\", Actual: \"Ankle boot\", index: 23\n",
            "Predicted : \"Sneaker\", Actual: \"Trouser\", index: 24\n",
            "Predicted : \"Sneaker\", Actual: \"Coat\", index: 25\n",
            "Predicted : \"Pullover\", Actual: \"Shirt\", index: 26\n",
            "Predicted : \"Sneaker\", Actual: \"T-shirt/top\", index: 27\n",
            "Predicted : \"Pullover\", Actual: \"Ankle boot\", index: 28\n",
            "Predicted : \"Shirt\", Actual: \"Dress\", index: 29\n",
            "Predicted : \"Dress\", Actual: \"Bag\", index: 30\n",
            "Predicted : \"Dress\", Actual: \"Bag\", index: 31\n",
            "Predicted : \"Shirt\", Actual: \"Dress\", index: 32\n",
            "Predicted : \"Pullover\", Actual: \"Dress\", index: 33\n",
            "Predicted : \"Dress\", Actual: \"Bag\", index: 34\n",
            "Predicted : \"Dress\", Actual: \"T-shirt/top\", index: 35\n",
            "Predicted : \"Dress\", Actual: \"Sneaker\", index: 36\n",
            "Predicted : \"Dress\", Actual: \"Sandal\", index: 37\n",
            "Predicted : \"Sneaker\", Actual: \"Sneaker\", index: 38\n",
            "Predicted : \"Pullover\", Actual: \"Ankle boot\", index: 39\n",
            "Predicted : \"Pullover\", Actual: \"Shirt\", index: 40\n",
            "Predicted : \"Pullover\", Actual: \"Trouser\", index: 41\n",
            "Predicted : \"Sneaker\", Actual: \"Dress\", index: 42\n",
            "Predicted : \"Sneaker\", Actual: \"Sneaker\", index: 43\n",
            "Predicted : \"Pullover\", Actual: \"Shirt\", index: 44\n",
            "Predicted : \"Dress\", Actual: \"Sneaker\", index: 45\n",
            "Predicted : \"Pullover\", Actual: \"Pullover\", index: 46\n",
            "Predicted : \"Shirt\", Actual: \"Trouser\", index: 47\n",
            "Predicted : \"Sneaker\", Actual: \"Pullover\", index: 48\n",
            "Predicted : \"Sneaker\", Actual: \"Pullover\", index: 49\n",
            "Predicted : \"Pullover\", Actual: \"Coat\", index: 50\n",
            "Predicted : \"Pullover\", Actual: \"Coat\", index: 51\n",
            "Predicted : \"Sneaker\", Actual: \"Sandal\", index: 52\n",
            "Predicted : \"Pullover\", Actual: \"Bag\", index: 53\n",
            "Predicted : \"Dress\", Actual: \"Pullover\", index: 54\n",
            "Predicted : \"Pullover\", Actual: \"Pullover\", index: 55\n",
            "Predicted : \"Pullover\", Actual: \"Bag\", index: 56\n",
            "Predicted : \"Sneaker\", Actual: \"Coat\", index: 57\n",
            "Predicted : \"Pullover\", Actual: \"Bag\", index: 58\n",
            "Predicted : \"Pullover\", Actual: \"T-shirt/top\", index: 59\n",
            "Predicted : \"Dress\", Actual: \"Sneaker\", index: 60\n",
            "Predicted : \"Dress\", Actual: \"Sneaker\", index: 61\n",
            "Predicted : \"Pullover\", Actual: \"Bag\", index: 62\n",
            "Predicted : \"Dress\", Actual: \"Sandal\", index: 63\n"
          ]
        }
      ]
    },
    {
      "cell_type": "markdown",
      "source": [
        "# tensor\n"
      ],
      "metadata": {
        "id": "Aijb0kPyPnnb"
      }
    },
    {
      "cell_type": "code",
      "source": [
        "import torch\n",
        "import numpy as np"
      ],
      "metadata": {
        "id": "uNmQ_ONIK6Fl"
      },
      "execution_count": 69,
      "outputs": []
    },
    {
      "cell_type": "code",
      "source": [
        "data = [[1,2], [3,4]]\n",
        "print(data)\n",
        "\n",
        "x_data = torch.tensor(data)\n",
        "print(x_data)"
      ],
      "metadata": {
        "colab": {
          "base_uri": "https://localhost:8080/"
        },
        "id": "A9SOgyZZPs_D",
        "outputId": "d810a487-37fc-44b4-e524-13c38c654bbd"
      },
      "execution_count": 72,
      "outputs": [
        {
          "output_type": "stream",
          "name": "stdout",
          "text": [
            "[[1, 2], [3, 4]]\n",
            "tensor([[1, 2],\n",
            "        [3, 4]])\n"
          ]
        }
      ]
    },
    {
      "cell_type": "code",
      "source": [
        "np_array = np.array(data)\n",
        "print(np_array)\n",
        "\n",
        "x_np = torch.from_numpy(np_array)\n",
        "print(x_np)\n"
      ],
      "metadata": {
        "colab": {
          "base_uri": "https://localhost:8080/"
        },
        "id": "K0Gk8kb9Pxfw",
        "outputId": "4f6314c5-c399-4d60-e83f-7d3d92387304"
      },
      "execution_count": 77,
      "outputs": [
        {
          "output_type": "stream",
          "name": "stdout",
          "text": [
            "[[1 2]\n",
            " [3 4]]\n",
            "tensor([[1, 2],\n",
            "        [3, 4]])\n"
          ]
        }
      ]
    },
    {
      "cell_type": "code",
      "source": [
        "x_ones = torch.ones_like(x_data)\n",
        "print(x_ones)\n",
        "\n",
        "x_rand = torch.rand_like(x_data, dtype = torch.float)\n",
        "print(x_rand)"
      ],
      "metadata": {
        "colab": {
          "base_uri": "https://localhost:8080/"
        },
        "id": "vuyoyg-0QGhz",
        "outputId": "d194bc7a-3feb-46a5-8f1b-1eb6e8d6e506"
      },
      "execution_count": 79,
      "outputs": [
        {
          "output_type": "stream",
          "name": "stdout",
          "text": [
            "tensor([[1, 1],\n",
            "        [1, 1]])\n",
            "tensor([[0.5590, 0.0225],\n",
            "        [0.2223, 0.9113]])\n"
          ]
        }
      ]
    },
    {
      "cell_type": "code",
      "source": [
        "shape = (2, 3, )\n",
        "rand_tensor = torch.rand(shape)\n",
        "ones_tensor = torch.ones(shape)\n",
        "zeros_tensor = torch.zeros(shape)\n",
        "\n",
        "print(rand_tensor.shape)\n",
        "print(ones_tensor)\n",
        "print(zeros_tensor)"
      ],
      "metadata": {
        "colab": {
          "base_uri": "https://localhost:8080/"
        },
        "id": "s3oBDgsIQwLB",
        "outputId": "d0b20dc3-759f-4b85-81cc-237b7f2e0d9d"
      },
      "execution_count": 86,
      "outputs": [
        {
          "output_type": "stream",
          "name": "stdout",
          "text": [
            "torch.Size([2, 3])\n",
            "tensor([[1., 1., 1.],\n",
            "        [1., 1., 1.]])\n",
            "tensor([[0., 0., 0.],\n",
            "        [0., 0., 0.]])\n"
          ]
        }
      ]
    },
    {
      "cell_type": "code",
      "source": [
        "tensor = torch.rand(3,4)\n",
        "\n",
        "print(tensor.shape)\n",
        "print(tensor.dtype)\n",
        "print(tensor.device)"
      ],
      "metadata": {
        "colab": {
          "base_uri": "https://localhost:8080/"
        },
        "id": "yx3yI2z9RME3",
        "outputId": "a51db861-fad7-4207-fc85-657d0af8d639"
      },
      "execution_count": 88,
      "outputs": [
        {
          "output_type": "stream",
          "name": "stdout",
          "text": [
            "torch.Size([3, 4])\n",
            "torch.float32\n",
            "cpu\n"
          ]
        }
      ]
    },
    {
      "cell_type": "code",
      "source": [
        "if torch.cuda.is_available():\n",
        "  tensor = tensor.to(\"cuda\")\n",
        "  print(tensor.device)"
      ],
      "metadata": {
        "colab": {
          "base_uri": "https://localhost:8080/"
        },
        "id": "3sEk4PF-R7a0",
        "outputId": "262e30c2-a74a-4126-9861-c581e46ba25c"
      },
      "execution_count": 89,
      "outputs": [
        {
          "output_type": "stream",
          "name": "stdout",
          "text": [
            "cuda:0\n"
          ]
        }
      ]
    },
    {
      "cell_type": "code",
      "source": [
        "tensor = torch.rand(4,4)\n",
        "print('all',tensor)\n",
        "print('first row',tensor[0])\n",
        "print('first row',tensor[0,:])\n",
        "print('first column',tensor[:,0])\n",
        "print('last column',tensor[:,-1])\n",
        "print('last colums', tensor[...,-1])\n",
        "\n",
        "tensor[..., 1] = 0\n",
        "print(tensor)"
      ],
      "metadata": {
        "colab": {
          "base_uri": "https://localhost:8080/"
        },
        "id": "eWjURmEPSIf0",
        "outputId": "6352295c-dc53-4318-9fce-466d71b80cc6"
      },
      "execution_count": 118,
      "outputs": [
        {
          "output_type": "stream",
          "name": "stdout",
          "text": [
            "all tensor([[0.5209, 0.3151, 0.9661, 0.2932],\n",
            "        [0.2839, 0.8323, 0.9924, 0.8368],\n",
            "        [0.7608, 0.6754, 0.5918, 0.9289],\n",
            "        [0.3472, 0.8185, 0.0969, 0.7305]])\n",
            "first row tensor([0.5209, 0.3151, 0.9661, 0.2932])\n",
            "first row tensor([0.5209, 0.3151, 0.9661, 0.2932])\n",
            "first column tensor([0.5209, 0.2839, 0.7608, 0.3472])\n",
            "last column tensor([0.2932, 0.8368, 0.9289, 0.7305])\n",
            "last colums tensor([0.2932, 0.8368, 0.9289, 0.7305])\n",
            "tensor([[0.5209, 0.0000, 0.9661, 0.2932],\n",
            "        [0.2839, 0.0000, 0.9924, 0.8368],\n",
            "        [0.7608, 0.0000, 0.5918, 0.9289],\n",
            "        [0.3472, 0.0000, 0.0969, 0.7305]])\n"
          ]
        }
      ]
    },
    {
      "cell_type": "code",
      "source": [
        "tensor = torch.ones(4,4)\n",
        "tensor[:, 1] = 0\n",
        "t1 = torch.cat([tensor, tensor, tensor], dim =0)\n",
        "print(t1, t1.shape)"
      ],
      "metadata": {
        "colab": {
          "base_uri": "https://localhost:8080/"
        },
        "id": "kEed61rNSQRH",
        "outputId": "4ac9eb93-03c1-43f8-8dcd-71886a1a5419"
      },
      "execution_count": 122,
      "outputs": [
        {
          "output_type": "stream",
          "name": "stdout",
          "text": [
            "tensor([[1., 0., 1., 1.],\n",
            "        [1., 0., 1., 1.],\n",
            "        [1., 0., 1., 1.],\n",
            "        [1., 0., 1., 1.],\n",
            "        [1., 0., 1., 1.],\n",
            "        [1., 0., 1., 1.],\n",
            "        [1., 0., 1., 1.],\n",
            "        [1., 0., 1., 1.],\n",
            "        [1., 0., 1., 1.],\n",
            "        [1., 0., 1., 1.],\n",
            "        [1., 0., 1., 1.],\n",
            "        [1., 0., 1., 1.]]) torch.Size([12, 4])\n"
          ]
        }
      ]
    },
    {
      "cell_type": "code",
      "source": [
        "y1 = tensor @ tensor.T\n",
        "print(y1)\n",
        "y2 = tensor.matmul(tensor.T)\n",
        "print(y2)\n",
        "y3 = torch.rand_like(y1)\n",
        "print(y3)\n",
        "torch.matmul(tensor, tensor.T, out=y3)\n",
        "print(y3)"
      ],
      "metadata": {
        "colab": {
          "base_uri": "https://localhost:8080/"
        },
        "id": "d6IisDvsWKrq",
        "outputId": "89833bf0-d0c9-4469-afa0-219e5e4e905d"
      },
      "execution_count": 130,
      "outputs": [
        {
          "output_type": "stream",
          "name": "stdout",
          "text": [
            "tensor([[3., 3., 3., 3.],\n",
            "        [3., 3., 3., 3.],\n",
            "        [3., 3., 3., 3.],\n",
            "        [3., 3., 3., 3.]])\n",
            "tensor([[3., 3., 3., 3.],\n",
            "        [3., 3., 3., 3.],\n",
            "        [3., 3., 3., 3.],\n",
            "        [3., 3., 3., 3.]])\n",
            "tensor([[0.5084, 0.0396, 0.0902, 0.3994],\n",
            "        [0.5616, 0.4215, 0.2935, 0.4037],\n",
            "        [0.8990, 0.4171, 0.4273, 0.5917],\n",
            "        [0.4263, 0.2929, 0.0901, 0.1853]])\n",
            "tensor([[3., 3., 3., 3.],\n",
            "        [3., 3., 3., 3.],\n",
            "        [3., 3., 3., 3.],\n",
            "        [3., 3., 3., 3.]])\n",
            "tensor([[3., 3., 3., 3.],\n",
            "        [3., 3., 3., 3.],\n",
            "        [3., 3., 3., 3.],\n",
            "        [3., 3., 3., 3.]])\n"
          ]
        }
      ]
    },
    {
      "cell_type": "code",
      "source": [
        "z1 = tensor[0]*tensor[0]\n",
        "print(z1)\n",
        "\n",
        "z2 = tensor.mul(tensor)\n",
        "print(z2)\n",
        "\n",
        "z3 = torch.rand_like(tensor)\n",
        "torch.mul(tensor, tensor, out= z3)\n",
        "print(z3)"
      ],
      "metadata": {
        "colab": {
          "base_uri": "https://localhost:8080/"
        },
        "id": "yhsTZmthVHY-",
        "outputId": "7e532053-1815-4d08-94a7-8202bc76e0a3"
      },
      "execution_count": 128,
      "outputs": [
        {
          "output_type": "stream",
          "name": "stdout",
          "text": [
            "tensor([1., 0., 1., 1.])\n",
            "tensor([[1., 0., 1., 1.],\n",
            "        [1., 0., 1., 1.],\n",
            "        [1., 0., 1., 1.],\n",
            "        [1., 0., 1., 1.]])\n",
            "tensor([[1., 0., 1., 1.],\n",
            "        [1., 0., 1., 1.],\n",
            "        [1., 0., 1., 1.],\n",
            "        [1., 0., 1., 1.]])\n"
          ]
        }
      ]
    },
    {
      "cell_type": "code",
      "source": [
        "tensor = torch.ones(4,4,4)\n",
        "agg = tensor.sum()\n",
        "agg_item = agg.item()\n",
        "print(agg,agg_item, type(agg_item))"
      ],
      "metadata": {
        "colab": {
          "base_uri": "https://localhost:8080/"
        },
        "id": "99KYDa1lXQYw",
        "outputId": "5c64a2d9-b774-4216-b2e7-ed153d4c2deb"
      },
      "execution_count": 139,
      "outputs": [
        {
          "output_type": "stream",
          "name": "stdout",
          "text": [
            "tensor(64.) 64.0 <class 'float'>\n"
          ]
        }
      ]
    },
    {
      "cell_type": "code",
      "source": [
        "print(tensor)\n",
        "\n",
        "tensor+=5 # tensor.add_(5)\n",
        "print(tensor)"
      ],
      "metadata": {
        "colab": {
          "base_uri": "https://localhost:8080/"
        },
        "id": "4QB2PazcX-2c",
        "outputId": "a77b9480-95c2-4aa0-c02d-4e98874d5065"
      },
      "execution_count": 140,
      "outputs": [
        {
          "output_type": "stream",
          "name": "stdout",
          "text": [
            "tensor([[[1., 1., 1., 1.],\n",
            "         [1., 1., 1., 1.],\n",
            "         [1., 1., 1., 1.],\n",
            "         [1., 1., 1., 1.]],\n",
            "\n",
            "        [[1., 1., 1., 1.],\n",
            "         [1., 1., 1., 1.],\n",
            "         [1., 1., 1., 1.],\n",
            "         [1., 1., 1., 1.]],\n",
            "\n",
            "        [[1., 1., 1., 1.],\n",
            "         [1., 1., 1., 1.],\n",
            "         [1., 1., 1., 1.],\n",
            "         [1., 1., 1., 1.]],\n",
            "\n",
            "        [[1., 1., 1., 1.],\n",
            "         [1., 1., 1., 1.],\n",
            "         [1., 1., 1., 1.],\n",
            "         [1., 1., 1., 1.]]])\n",
            "tensor([[[6., 6., 6., 6.],\n",
            "         [6., 6., 6., 6.],\n",
            "         [6., 6., 6., 6.],\n",
            "         [6., 6., 6., 6.]],\n",
            "\n",
            "        [[6., 6., 6., 6.],\n",
            "         [6., 6., 6., 6.],\n",
            "         [6., 6., 6., 6.],\n",
            "         [6., 6., 6., 6.]],\n",
            "\n",
            "        [[6., 6., 6., 6.],\n",
            "         [6., 6., 6., 6.],\n",
            "         [6., 6., 6., 6.],\n",
            "         [6., 6., 6., 6.]],\n",
            "\n",
            "        [[6., 6., 6., 6.],\n",
            "         [6., 6., 6., 6.],\n",
            "         [6., 6., 6., 6.],\n",
            "         [6., 6., 6., 6.]]])\n"
          ]
        }
      ]
    },
    {
      "cell_type": "code",
      "source": [
        "t = torch.ones(5)\n",
        "print(t, t.dtype)\n",
        "\n",
        "n = t.numpy()\n",
        "print(n, n.dtype)"
      ],
      "metadata": {
        "colab": {
          "base_uri": "https://localhost:8080/"
        },
        "id": "cdPBZ9IoYmYy",
        "outputId": "5bd39a07-0abd-4bb0-c723-56c2ccdec46d"
      },
      "execution_count": 144,
      "outputs": [
        {
          "output_type": "stream",
          "name": "stdout",
          "text": [
            "tensor([1., 1., 1., 1., 1.]) torch.float32\n",
            "[1. 1. 1. 1. 1.] float32\n"
          ]
        }
      ]
    },
    {
      "cell_type": "code",
      "source": [
        "t.add_(1)\n",
        "print(t)\n",
        "print(n)"
      ],
      "metadata": {
        "colab": {
          "base_uri": "https://localhost:8080/"
        },
        "id": "uNOjw6BwZEH-",
        "outputId": "2466a83c-091b-4ffe-c267-b8c6eaf6aa28"
      },
      "execution_count": 146,
      "outputs": [
        {
          "output_type": "stream",
          "name": "stdout",
          "text": [
            "tensor([3., 3., 3., 3., 3.])\n",
            "[3. 3. 3. 3. 3.]\n"
          ]
        }
      ]
    },
    {
      "cell_type": "code",
      "source": [
        "n = np.ones((5,5))\n",
        "print(n)\n",
        "t = torch.from_numpy(n)\n",
        "print(t)"
      ],
      "metadata": {
        "colab": {
          "base_uri": "https://localhost:8080/"
        },
        "id": "ktNjJcTjZV4X",
        "outputId": "53bde9a0-df17-4585-99da-a99130f6c34d"
      },
      "execution_count": 157,
      "outputs": [
        {
          "output_type": "stream",
          "name": "stdout",
          "text": [
            "[[1. 1. 1. 1. 1.]\n",
            " [1. 1. 1. 1. 1.]\n",
            " [1. 1. 1. 1. 1.]\n",
            " [1. 1. 1. 1. 1.]\n",
            " [1. 1. 1. 1. 1.]]\n",
            "tensor([[1., 1., 1., 1., 1.],\n",
            "        [1., 1., 1., 1., 1.],\n",
            "        [1., 1., 1., 1., 1.],\n",
            "        [1., 1., 1., 1., 1.],\n",
            "        [1., 1., 1., 1., 1.]], dtype=torch.float64)\n"
          ]
        }
      ]
    },
    {
      "cell_type": "code",
      "source": [
        "np.add(n, 1, out = n)\n",
        "print(t)\n",
        "print(n)"
      ],
      "metadata": {
        "colab": {
          "base_uri": "https://localhost:8080/"
        },
        "id": "OffwUvMoZl64",
        "outputId": "dcee848f-0576-4be0-8a70-f66683433b16"
      },
      "execution_count": 159,
      "outputs": [
        {
          "output_type": "stream",
          "name": "stdout",
          "text": [
            "tensor([[2., 2., 2., 2., 2.],\n",
            "        [2., 2., 2., 2., 2.],\n",
            "        [2., 2., 2., 2., 2.],\n",
            "        [2., 2., 2., 2., 2.],\n",
            "        [2., 2., 2., 2., 2.]], dtype=torch.float64)\n",
            "[[2. 2. 2. 2. 2.]\n",
            " [2. 2. 2. 2. 2.]\n",
            " [2. 2. 2. 2. 2.]\n",
            " [2. 2. 2. 2. 2.]\n",
            " [2. 2. 2. 2. 2.]]\n"
          ]
        }
      ]
    },
    {
      "cell_type": "markdown",
      "source": [
        "# Datasets & Dataloaders"
      ],
      "metadata": {
        "id": "uQidztYYaJj3"
      }
    },
    {
      "cell_type": "code",
      "source": [
        "import torch\n",
        "from torch.utils.data import  Dataset\n",
        "from torchvision import datasets\n",
        "from torchvision.transforms import ToTensor\n",
        "import matplotlib.pyplot as plt\n",
        "\n",
        "labels_map = {\n",
        "    0: \"T-Shirt\",\n",
        "    1: \"Trouser\",\n",
        "    2: \"Pullover\",\n",
        "    3: \"Dress\",\n",
        "    4: \"Coat\",\n",
        "    5: \"Sandal\",\n",
        "    6: \"Shirt\",\n",
        "    7: \"Sneaker\",\n",
        "    8: \"Bag\",\n",
        "    9: \"Ankle Boot\",\n",
        "}"
      ],
      "metadata": {
        "id": "WdCPOQ_nZueG"
      },
      "execution_count": 161,
      "outputs": []
    },
    {
      "cell_type": "code",
      "source": [
        "fig = plt.figure(figsize = (8,8))\n",
        "cols, rows = 3,3\n",
        "for i in range(1, cols*rows +1):\n",
        "  sample_idx = torch.randint(len(training_data), size=(1,)).item()\n",
        "  img, label = training_data[sample_idx]\n",
        "  fig.add_subplot(rows, cols, i)\n",
        "  plt.title(labels_map[label])\n",
        "  plt.axis(\"off\")\n",
        "  plt.imshow(img.squeeze(), cmap ='gray')\n",
        "plt.show()"
      ],
      "metadata": {
        "colab": {
          "base_uri": "https://localhost:8080/",
          "height": 675
        },
        "id": "pwqIqV0kbJam",
        "outputId": "e52c65e3-7116-46d5-e685-0ada569e4106"
      },
      "execution_count": 163,
      "outputs": [
        {
          "output_type": "display_data",
          "data": {
            "text/plain": [
              "<Figure size 800x800 with 9 Axes>"
            ],
            "image/png": "[encoded data removed]"
          },
          "metadata": {}
        }
      ]
    },
    {
      "cell_type": "markdown",
      "source": [
        "# Create a Custom dataset for your files"
      ],
      "metadata": {
        "id": "XnZhkeWpcUe5"
      }
    },
    {
      "cell_type": "code",
      "source": [
        "import os\n",
        "import pandas as pd\n",
        "from torchvision.io import read_image\n",
        "\n",
        "class CustomImageDataset(Dataset):\n",
        "  def __init__(self, annotations_file, img_dir, transform = None, target_transform = None):\n",
        "    self.img_labels = pd.read(annotations_file)\n",
        "    self.img_dir = img_dir\n",
        "    self.transform = transform\n",
        "    self.target_transform = target_transform\n",
        "\n",
        "  def __len__(self):\n",
        "    return len(self.img_labels)\n",
        "  def __getitem__(self, idx):\n",
        "    img_path = os.path.join(self.img_dir, self.img_labels.iloc[idx,0])\n",
        "    image = read_image(img_path)\n",
        "    label = self.img_labels.iloc[idx, 1]\n",
        "\n",
        "    if self.transform :\n",
        "      image = self.transform(image)\n",
        "    if self.target_transform:\n",
        "      label = self.target_transform(label)\n",
        "    return image, label"
      ],
      "metadata": {
        "id": "inTEzNGzcG1U"
      },
      "execution_count": 164,
      "outputs": []
    },
    {
      "cell_type": "code",
      "source": [
        "from torch.utils.data import DataLoader\n",
        "\n",
        "train_dataloader = DataLoader(training_data, batch_size = batch_size , shuffle =True)\n",
        "test_dataloader = DataLoader(test_data, batch_size = batch_size , shuffle =True)\n",
        "\n"
      ],
      "metadata": {
        "id": "ShklU0X5etGb"
      },
      "execution_count": 165,
      "outputs": []
    },
    {
      "cell_type": "code",
      "source": [
        "train_images, train_labels = next(iter(train_dataloader))\n",
        "print(f'image batch size : {train_images.size()}')\n",
        "print(f'image batch size : {train_images.shape}')\n",
        "print(f'label batch size : {train_labels.size()}')"
      ],
      "metadata": {
        "colab": {
          "base_uri": "https://localhost:8080/"
        },
        "id": "-c1YHtryfIdz",
        "outputId": "74d9a1e8-da9c-4134-a8f7-5be219858b38"
      },
      "execution_count": 170,
      "outputs": [
        {
          "output_type": "stream",
          "name": "stdout",
          "text": [
            "image batch size : torch.Size([64, 1, 28, 28])\n",
            "image batch size : torch.Size([64, 1, 28, 28])\n",
            "label batch size : torch.Size([64])\n"
          ]
        }
      ]
    },
    {
      "cell_type": "code",
      "source": [
        "print(train_images[0].shape)\n",
        "img = train_images[0].squeeze()\n",
        "print(img.shape)"
      ],
      "metadata": {
        "colab": {
          "base_uri": "https://localhost:8080/"
        },
        "id": "TSM2EDh3fddo",
        "outputId": "a78adf66-a050-46d8-9c6d-f061502679bc"
      },
      "execution_count": 171,
      "outputs": [
        {
          "output_type": "stream",
          "name": "stdout",
          "text": [
            "torch.Size([1, 28, 28])\n",
            "torch.Size([28, 28])\n"
          ]
        }
      ]
    },
    {
      "cell_type": "code",
      "source": [
        "train_images, train_labels = next(iter(train_dataloader))\n",
        "\n",
        "print(f'image batch size : {train_images.size()}')\n",
        "print(f'label batch size : {train_labels.size()}')\n",
        "\n",
        "img = train_images[0].squeeze()\n",
        "label = train_labels[0]\n",
        "plt.imshow(img, cmap = 'gray')\n",
        "plt.show()\n",
        "print(f'label:{label}, label_name:{classes[label]}')"
      ],
      "metadata": {
        "colab": {
          "base_uri": "https://localhost:8080/",
          "height": 486
        },
        "id": "-Sg3Xwvpf35x",
        "outputId": "b99e4eb8-6583-4945-ff5f-c6aceed3060e"
      },
      "execution_count": 173,
      "outputs": [
        {
          "output_type": "stream",
          "name": "stdout",
          "text": [
            "image batch size : torch.Size([64, 1, 28, 28])\n",
            "label batch size : torch.Size([64])\n"
          ]
        },
        {
          "output_type": "display_data",
          "data": {
            "text/plain": [
              "<Figure size 640x480 with 1 Axes>"
            ],
            "image/png": "[encoded data removed]"
          },
          "metadata": {}
        },
        {
          "output_type": "stream",
          "name": "stdout",
          "text": [
            "label:9, label_name:Ankle boot\n"
          ]
        }
      ]
    },
    {
      "cell_type": "code",
      "source": [],
      "metadata": {
        "id": "1VDS5dxhhbTe"
      },
      "execution_count": null,
      "outputs": []
    }
  ]
}