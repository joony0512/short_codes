{
  "nbformat": 4,
  "nbformat_minor": 0,
  "metadata": {
    "colab": {
      "provenance": [],
      "authorship_tag": "ABX9TyPhJl659lsuZcboIahxEO7o",
      "include_colab_link": true
    },
    "kernelspec": {
      "name": "python3",
      "display_name": "Python 3"
    },
    "language_info": {
      "name": "python"
    }
  },
  "cells": [
    {
      "cell_type": "markdown",
      "metadata": {
        "id": "view-in-github",
        "colab_type": "text"
      },
      "source": [
        "<a href=\"https://colab.research.google.com/github/joony0512/short_codes/blob/main/%ED%9C%B4%EC%9D%BC%EA%B3%84%EC%82%B0%EA%B8%B02.ipynb\" target=\"_parent\"><img src=\"https://colab.research.google.com/assets/colab-badge.svg\" alt=\"Open In Colab\"/></a>"
      ]
    },
    {
      "cell_type": "markdown",
      "source": [
        "# 주말 날짜 수 계산기\n",
        "- 2023년의 1/1일의 요일이 바뀔 때(X: 1(월) ~ 7(일)) 주말의 수 구하기"
      ],
      "metadata": {
        "id": "NBKVL5DgY02F"
      }
    },
    {
      "cell_type": "code",
      "execution_count": null,
      "metadata": {
        "id": "U35uuu1K-kfr"
      },
      "outputs": [],
      "source": [
        "def solution(X):\n",
        "    answer = 0\n",
        "    cal = []\n",
        "    month = [31, 28, 31, 30, 31, 30, 31, 31, 30, 31, 30, 31]\n",
        "    for i in range(1, 13):\n",
        "        for j in range(1, month[i-1]+1):\n",
        "            cal.append([i, j])\n",
        "\n",
        "    holiday = []\n",
        "    if X ==7 :\n",
        "        for i in range(len(cal)):\n",
        "            if i%7 == 6 or i%7 ==0:\n",
        "                holiday.append(cal[i])\n",
        "    elif X == 6:\n",
        "        for i in range(len(cal)):\n",
        "            if i%7 == 0 or i%7 ==1:\n",
        "                holiday.append(cal[i])\n",
        "    elif X == 5:\n",
        "        for i in range(len(cal)):\n",
        "            if i%7 == 1 or i%7 ==2:\n",
        "                holiday.append(cal[i])\n",
        "    elif X == 4:\n",
        "        for i in range(len(cal)):\n",
        "            if i%7 == 2 or i%7 ==3:\n",
        "                holiday.append(cal[i])\n",
        "    elif X == 3:\n",
        "        for i in range(len(cal)):\n",
        "            if i%7 == 3 or i%7 ==4:\n",
        "                holiday.append(cal[i])\n",
        "    elif X == 2:\n",
        "        for i in range(len(cal)):\n",
        "            if i%7 == 4 or i%7 ==5:\n",
        "                holiday.append(cal[i])\n",
        "    elif X == 1:\n",
        "        for i in range(len(cal)):\n",
        "            if i%7 == 5 or i%7 ==6:\n",
        "                holiday.append(cal[i])\n",
        "\n",
        "    answer = len(holiday)\n",
        "    print(holiday)\n",
        "\n",
        "\n",
        "    return answer"
      ]
    },
    {
      "cell_type": "code",
      "source": [
        "solution(7)"
      ],
      "metadata": {
        "colab": {
          "base_uri": "https://localhost:8080/"
        },
        "id": "7pJqDYl4-k4S",
        "outputId": "98341910-4cd8-4459-c6e9-bceabd227d0f"
      },
      "execution_count": null,
      "outputs": [
        {
          "output_type": "stream",
          "name": "stdout",
          "text": [
            "[[1, 1], [1, 7], [1, 8], [1, 14], [1, 15], [1, 21], [1, 22], [1, 28], [1, 29], [2, 5], [2, 6], [2, 12], [2, 13], [2, 19], [2, 20], [2, 26], [2, 27], [3, 6], [3, 7], [3, 13], [3, 14], [3, 20], [3, 21], [3, 27], [3, 28], [4, 4], [4, 5], [4, 11], [4, 12], [4, 18], [4, 19], [4, 25], [4, 26], [5, 3], [5, 4], [5, 10], [5, 11], [5, 17], [5, 18], [5, 24], [5, 25], [6, 1], [6, 2], [6, 8], [6, 9], [6, 15], [6, 16], [6, 22], [6, 23], [6, 29], [7, 1], [7, 7], [7, 8], [7, 14], [7, 15], [7, 21], [7, 22], [7, 28], [7, 29], [8, 5], [8, 6], [8, 12], [8, 13], [8, 19], [8, 20], [8, 26], [8, 27], [9, 3], [9, 4], [9, 10], [9, 11], [9, 17], [9, 18], [9, 24], [9, 25], [10, 2], [10, 3], [10, 9], [10, 10], [10, 16], [10, 17], [10, 23], [10, 24], [10, 30], [11, 1], [11, 7], [11, 8], [11, 14], [11, 15], [11, 21], [11, 22], [11, 28], [11, 29], [12, 6], [12, 7], [12, 13], [12, 14], [12, 20], [12, 21], [12, 27], [12, 28]]\n"
          ]
        },
        {
          "output_type": "execute_result",
          "data": {
            "text/plain": [
              "101"
            ]
          },
          "metadata": {},
          "execution_count": 4
        }
      ]
    },
    {
      "cell_type": "markdown",
      "source": [
        "# 공휴일 정보 ex[[1,1], [1,4]]가 주어질때 주말과 포함하여 쉬는 날 수 구하기\n",
        "# 대체 휴일구하기 (공휴일인데 토요일 -> 금 대체휴일 지정, 금도 공휴일 -> 목 .. , 일요일-> 월요일, 월도 공휴일 -> 화 ..)"
      ],
      "metadata": {
        "id": "ekAW2LypZDDn"
      }
    },
    {
      "cell_type": "code",
      "source": [
        "def solution(X, H):\n",
        "    answer = 0\n",
        "    cal = []\n",
        "    month = [31, 28, 31, 30, 31, 30, 31, 31, 30, 31, 30, 31]\n",
        "    for i in range(1, 13):\n",
        "        for j in range(1, month[i-1]+1):\n",
        "            cal.append([i, j])\n",
        "################\n",
        "    holiday = []\n",
        "    for i in range(len(cal)):\n",
        "        if i % 7 in {0, 6} and X == 7:\n",
        "            holiday.append(cal[i])\n",
        "        elif i % 7 in {0, 1} and X == 6:\n",
        "            holiday.append(cal[i])\n",
        "        elif i % 7 in {1, 2} and X == 5:\n",
        "            holiday.append(cal[i])\n",
        "        elif i % 7 in {2, 3} and X == 4:\n",
        "            holiday.append(cal[i])\n",
        "        elif i % 7 in {3, 4} and X == 3:\n",
        "            holiday.append(cal[i])\n",
        "        elif i % 7 in {4, 5} and X == 2:\n",
        "            holiday.append(cal[i])\n",
        "        elif i % 7 in {5, 6} and X == 1:\n",
        "            holiday.append(cal[i])\n",
        "\n",
        "    ########\n",
        "    another_holiday = [] # 공휴일이고 평일\n",
        "    no_holiday =[] # 공휴일이고 주말\n",
        "    for i in range(len(H)):\n",
        "        if H[i] in holiday:\n",
        "            no_holiday.append(H[i])\n",
        "\n",
        "        else :\n",
        "            another_holiday.append(H[i])\n",
        "\n",
        "    total_holiday1 = another_holiday + holiday ## 공휴일(평일) + 주말\n",
        "\n",
        "################\n",
        "    substitute_holiday = []\n",
        "    for j in range(len(no_holiday)):\n",
        "        i = cal.index(no_holiday[j])\n",
        "\n",
        "        if i % 7 in {0, 6} and X == 7:\n",
        "            next_day_index = i + 1 if i % 7 == 0 else i - 1\n",
        "            next_day = cal[next_day_index]\n",
        "\n",
        "            if next_day not in total_holiday1:\n",
        "                substitute_holiday.append(next_day)\n",
        "            else:\n",
        "                next_day_index = i +2 if i % 7 == 0 else i - 2\n",
        "                next_day = cal[next_day_index]\n",
        "                if next_day not in total_holiday1:\n",
        "                    substitute_holiday.append(next_day)\n",
        "                else:\n",
        "                    next_day_index = i +3 if i % 7 == 0 else i - 3\n",
        "                    next_day = cal[next_day_index]\n",
        "                    if next_day not in total_holiday1:\n",
        "                        substitute_holiday.append(next_day)\n",
        "\n",
        "        elif i % 7 in {0, 1} and X == 6:\n",
        "            next_day_index = i + 1 if i % 7 == 1 else i - 1\n",
        "            next_day = cal[next_day_index]\n",
        "\n",
        "            if next_day not in total_holiday1:\n",
        "                substitute_holiday.append(next_day)\n",
        "            else:\n",
        "                next_day_index = i +2 if i % 7 == 1 else i - 2\n",
        "                next_day = cal[next_day_index]\n",
        "                if next_day not in total_holiday1:\n",
        "                    substitute_holiday.append(next_day)\n",
        "                else:\n",
        "                    next_day_index = i +3 if i % 7 == 1 else i - 3\n",
        "                    next_day = cal[next_day_index]\n",
        "                    if next_day not in total_holiday1:\n",
        "                        substitute_holiday.append(next_day)\n",
        "\n",
        "        elif i % 7 in {1, 2} and X == 5:\n",
        "            next_day_index = i + 1 if i % 7 == 2 else i - 1\n",
        "            next_day = cal[next_day_index]\n",
        "\n",
        "            if next_day not in total_holiday1:\n",
        "                substitute_holiday.append(next_day)\n",
        "            else:\n",
        "                next_day_index = i +2 if i % 7 == 2 else i - 2\n",
        "                next_day = cal[next_day_index]\n",
        "                if next_day not in total_holiday1:\n",
        "                    substitute_holiday.append(next_day)\n",
        "                else:\n",
        "                    next_day_index = i +3 if i % 7 == 2 else i - 3\n",
        "                    next_day = cal[next_day_index]\n",
        "                    if next_day not in total_holiday1:\n",
        "                        substitute_holiday.append(next_day)\n",
        "\n",
        "        elif i % 7 in {2, 3} and X == 4:\n",
        "            next_day_index = i + 1 if i % 7 == 3 else i - 1\n",
        "            next_day = cal[next_day_index]\n",
        "\n",
        "            if next_day not in total_holiday1:\n",
        "                substitute_holiday.append(next_day)\n",
        "            else:\n",
        "                next_day_index = i +2 if i % 7 == 3 else i - 2\n",
        "                next_day = cal[next_day_index]\n",
        "                if next_day not in total_holiday1:\n",
        "                    substitute_holiday.append(next_day)\n",
        "                else:\n",
        "                    next_day_index = i +3 if i % 7 == 3 else i - 3\n",
        "                    next_day = cal[next_day_index]\n",
        "                    if next_day not in total_holiday1:\n",
        "                        substitute_holiday.append(next_day)\n",
        "\n",
        "        elif i % 7 in {3, 4} and X == 3:\n",
        "            next_day_index = i + 1 if i % 7 == 4 else i - 1\n",
        "            next_day = cal[next_day_index]\n",
        "\n",
        "            if next_day not in total_holiday1:\n",
        "                substitute_holiday.append(next_day)\n",
        "            else:\n",
        "                next_day_index = i +2 if i % 7 == 4 else i - 2\n",
        "                next_day = cal[next_day_index]\n",
        "                if next_day not in total_holiday1:\n",
        "                    substitute_holiday.append(next_day)\n",
        "                else:\n",
        "                    next_day_index = i +3 if i % 7 == 4 else i - 3\n",
        "                    next_day = cal[next_day_index]\n",
        "                    if next_day not in total_holiday1:\n",
        "                        substitute_holiday.append(next_day)\n",
        "        elif i % 7 in {4, 5} and X == 2:\n",
        "            next_day_index = i + 1 if i % 7 == 5 else i - 1\n",
        "            next_day = cal[next_day_index]\n",
        "\n",
        "            if next_day not in total_holiday1:\n",
        "                substitute_holiday.append(next_day)\n",
        "            else:\n",
        "                next_day_index = i +2 if i % 7 == 5 else i - 2\n",
        "                next_day = cal[next_day_index]\n",
        "                if next_day not in total_holiday1:\n",
        "                    substitute_holiday.append(next_day)\n",
        "                else:\n",
        "                    next_day_index = i +3 if i % 7 == 5 else i - 3\n",
        "                    next_day = cal[next_day_index]\n",
        "                    if next_day not in total_holiday1:\n",
        "                        substitute_holiday.append(next_day)\n",
        "\n",
        "        elif i % 7 in {5, 6} and X == 1:\n",
        "            next_day_index = i + 1 if i % 7 == 6 else i - 1\n",
        "            next_day = cal[next_day_index]\n",
        "\n",
        "            if next_day not in total_holiday1:\n",
        "                substitute_holiday.append(next_day)\n",
        "            else:\n",
        "                next_day_index = i +2 if i % 7 == 6 else i - 2\n",
        "                next_day = cal[next_day_index]\n",
        "                if next_day not in total_holiday1:\n",
        "                    substitute_holiday.append(next_day)\n",
        "                else:\n",
        "                    next_day_index = i +3 if i % 7 == 6 else i - 3\n",
        "                    next_day = cal[next_day_index]\n",
        "                    if next_day not in total_holiday1:\n",
        "                        substitute_holiday.append(next_day)\n",
        "\n",
        "    #########\n",
        "    answer = len(total_holiday1) + len(substitute_holiday)\n",
        "\n",
        "\n",
        "    return answer"
      ],
      "metadata": {
        "id": "yFcCbFzs-rNM"
      },
      "execution_count": null,
      "outputs": []
    },
    {
      "cell_type": "code",
      "source": [
        "solution(7, [[1,1],[1,21],[1,22],[1,23],[3,1],[5,5],[5,27],[6,6],[8,15],[9,28],[9,29],[9,30],[10,3],[10,9],[12,25]])"
      ],
      "metadata": {
        "colab": {
          "base_uri": "https://localhost:8080/"
        },
        "id": "Yw8DUqvsGU_Y",
        "outputId": "c52b3c0c-b499-4924-b130-deeb5d6016a9"
      },
      "execution_count": null,
      "outputs": [
        {
          "output_type": "execute_result",
          "data": {
            "text/plain": [
              "120"
            ]
          },
          "metadata": {},
          "execution_count": 12
        }
      ]
    },
    {
      "cell_type": "markdown",
      "source": [
        "# 월급날 구하기 (기본으로 Y일에 받고, 휴일안에 포함되면 가장 가까운 평일)"
      ],
      "metadata": {
        "id": "E30a4QTLZP4C"
      }
    },
    {
      "cell_type": "code",
      "source": [
        "def solution(X, H, Y):\n",
        "    answer = 0\n",
        "    cal = []\n",
        "    month = [31, 28, 31, 30, 31, 30, 31, 31, 30, 31, 30, 31]\n",
        "    for i in range(1, 13):\n",
        "        for j in range(1, month[i-1]+1):\n",
        "            cal.append([i, j])\n",
        "################\n",
        "    holiday = []\n",
        "    for i in range(len(cal)):\n",
        "        if i % 7 in {0, 6} and X == 7:\n",
        "            holiday.append(cal[i])\n",
        "        elif i % 7 in {0, 1} and X == 6:\n",
        "            holiday.append(cal[i])\n",
        "        elif i % 7 in {1, 2} and X == 5:\n",
        "            holiday.append(cal[i])\n",
        "        elif i % 7 in {2, 3} and X == 4:\n",
        "            holiday.append(cal[i])\n",
        "        elif i % 7 in {3, 4} and X == 3:\n",
        "            holiday.append(cal[i])\n",
        "        elif i % 7 in {4, 5} and X == 2:\n",
        "            holiday.append(cal[i])\n",
        "        elif i % 7 in {5, 6} and X == 1:\n",
        "            holiday.append(cal[i])\n",
        "\n",
        "    ########\n",
        "    another_holiday = [] # 공휴일이고 평일\n",
        "    no_holiday =[] # 공휴일이고 주말\n",
        "    for i in range(len(H)):\n",
        "        if H[i] in holiday:\n",
        "            no_holiday.append(H[i])\n",
        "\n",
        "        else :\n",
        "            another_holiday.append(H[i])\n",
        "\n",
        "    total_holiday1 = another_holiday + holiday ## 공휴일(평일) + 주말\n",
        "\n",
        "################\n",
        "    substitute_holiday = []\n",
        "    for j in range(len(no_holiday)):\n",
        "        i = cal.index(no_holiday[j])\n",
        "\n",
        "        if i % 7 in {0, 6} and X == 7:\n",
        "            next_day_index = i + 1 if i % 7 == 0 else i - 1\n",
        "            next_day = cal[next_day_index]\n",
        "\n",
        "            if next_day not in total_holiday1:\n",
        "                substitute_holiday.append(next_day)\n",
        "            else:\n",
        "                next_day_index = i +2 if i % 7 == 0 else i - 2\n",
        "                next_day = cal[next_day_index]\n",
        "                if next_day not in total_holiday1:\n",
        "                    substitute_holiday.append(next_day)\n",
        "                else:\n",
        "                    next_day_index = i +3 if i % 7 == 0 else i - 3\n",
        "                    next_day = cal[next_day_index]\n",
        "                    if next_day not in total_holiday1:\n",
        "                        substitute_holiday.append(next_day)\n",
        "\n",
        "        elif i % 7 in {0, 1} and X == 6:\n",
        "            next_day_index = i + 1 if i % 7 == 1 else i - 1\n",
        "            next_day = cal[next_day_index]\n",
        "\n",
        "            if next_day not in total_holiday1:\n",
        "                substitute_holiday.append(next_day)\n",
        "            else:\n",
        "                next_day_index = i +2 if i % 7 == 1 else i - 2\n",
        "                next_day = cal[next_day_index]\n",
        "                if next_day not in total_holiday1:\n",
        "                    substitute_holiday.append(next_day)\n",
        "                else:\n",
        "                    next_day_index = i +3 if i % 7 == 1 else i - 3\n",
        "                    next_day = cal[next_day_index]\n",
        "                    if next_day not in total_holiday1:\n",
        "                        substitute_holiday.append(next_day)\n",
        "\n",
        "        elif i % 7 in {1, 2} and X == 5:\n",
        "            next_day_index = i + 1 if i % 7 == 2 else i - 1\n",
        "            next_day = cal[next_day_index]\n",
        "\n",
        "            if next_day not in total_holiday1:\n",
        "                substitute_holiday.append(next_day)\n",
        "            else:\n",
        "                next_day_index = i +2 if i % 7 == 2 else i - 2\n",
        "                next_day = cal[next_day_index]\n",
        "                if next_day not in total_holiday1:\n",
        "                    substitute_holiday.append(next_day)\n",
        "                else:\n",
        "                    next_day_index = i +3 if i % 7 == 2 else i - 3\n",
        "                    next_day = cal[next_day_index]\n",
        "                    if next_day not in total_holiday1:\n",
        "                        substitute_holiday.append(next_day)\n",
        "\n",
        "        elif i % 7 in {2, 3} and X == 4:\n",
        "            next_day_index = i + 1 if i % 7 == 3 else i - 1\n",
        "            next_day = cal[next_day_index]\n",
        "\n",
        "            if next_day not in total_holiday1:\n",
        "                substitute_holiday.append(next_day)\n",
        "            else:\n",
        "                next_day_index = i +2 if i % 7 == 3 else i - 2\n",
        "                next_day = cal[next_day_index]\n",
        "                if next_day not in total_holiday1:\n",
        "                    substitute_holiday.append(next_day)\n",
        "                else:\n",
        "                    next_day_index = i +3 if i % 7 == 3 else i - 3\n",
        "                    next_day = cal[next_day_index]\n",
        "                    if next_day not in total_holiday1:\n",
        "                        substitute_holiday.append(next_day)\n",
        "\n",
        "        elif i % 7 in {3, 4} and X == 3:\n",
        "            next_day_index = i + 1 if i % 7 == 4 else i - 1\n",
        "            next_day = cal[next_day_index]\n",
        "\n",
        "            if next_day not in total_holiday1:\n",
        "                substitute_holiday.append(next_day)\n",
        "            else:\n",
        "                next_day_index = i +2 if i % 7 == 4 else i - 2\n",
        "                next_day = cal[next_day_index]\n",
        "                if next_day not in total_holiday1:\n",
        "                    substitute_holiday.append(next_day)\n",
        "                else:\n",
        "                    next_day_index = i +3 if i % 7 == 4 else i - 3\n",
        "                    next_day = cal[next_day_index]\n",
        "                    if next_day not in total_holiday1:\n",
        "                        substitute_holiday.append(next_day)\n",
        "        elif i % 7 in {4, 5} and X == 2:\n",
        "            next_day_index = i + 1 if i % 7 == 5 else i - 1\n",
        "            next_day = cal[next_day_index]\n",
        "\n",
        "            if next_day not in total_holiday1:\n",
        "                substitute_holiday.append(next_day)\n",
        "            else:\n",
        "                next_day_index = i +2 if i % 7 == 5 else i - 2\n",
        "                next_day = cal[next_day_index]\n",
        "                if next_day not in total_holiday1:\n",
        "                    substitute_holiday.append(next_day)\n",
        "                else:\n",
        "                    next_day_index = i +3 if i % 7 == 5 else i - 3\n",
        "                    next_day = cal[next_day_index]\n",
        "                    if next_day not in total_holiday1:\n",
        "                        substitute_holiday.append(next_day)\n",
        "\n",
        "        elif i % 7 in {5, 6} and X == 1:\n",
        "            next_day_index = i + 1 if i % 7 == 6 else i - 1\n",
        "            next_day = cal[next_day_index]\n",
        "\n",
        "            if next_day not in total_holiday1:\n",
        "                substitute_holiday.append(next_day)\n",
        "            else:\n",
        "                next_day_index = i +2 if i % 7 == 6 else i - 2\n",
        "                next_day = cal[next_day_index]\n",
        "                if next_day not in total_holiday1:\n",
        "                    substitute_holiday.append(next_day)\n",
        "                else:\n",
        "                    next_day_index = i +3 if i % 7 == 6 else i - 3\n",
        "                    next_day = cal[next_day_index]\n",
        "                    if next_day not in total_holiday1:\n",
        "                        substitute_holiday.append(next_day)\n",
        "\n",
        "    total_holiday2 = total_holiday1 + substitute_holiday\n",
        "    ######### 월급 날 계산기\n",
        "    salary_day =[[i,Y] for i in range(1, 13)]\n",
        "    new_salay_day =[]\n",
        "    for i in range(len(salary_day)):\n",
        "            if salary_day[i] in total_holiday2:\n",
        "                next_day_index = salary_day[i][1] +1\n",
        "                next_day = [salary_day[i][0], next_day_index]\n",
        "                if next_day in total_holiday2:\n",
        "                    next_day_index = salary_day[i][1] -1\n",
        "                    next_day = [salary_day[i][0], next_day_index]\n",
        "                    new_salay_day.append(next_day)\n",
        "                else:\n",
        "                    new_salay_day.append(next_day)\n",
        "            else :\n",
        "                new_salay_day.append(salary_day[i])\n",
        "\n",
        "\n",
        "    print(new_salay_day)\n",
        "    return answer"
      ],
      "metadata": {
        "id": "2mpRcbCzKVwL"
      },
      "execution_count": 53,
      "outputs": []
    },
    {
      "cell_type": "code",
      "source": [
        "solution(7, [[1,1],[1,21],[1,22],[1,23],[3,1],[5,5],[5,27],[6,6],[8,15],[9,28],[9,29],[9,30],[10,3],[10,9],[12,25]],5)"
      ],
      "metadata": {
        "colab": {
          "base_uri": "https://localhost:8080/"
        },
        "id": "RBZQ8QDJLZr7",
        "outputId": "ba492f24-f62e-4996-9491-6ca62e8694cc"
      },
      "execution_count": 54,
      "outputs": [
        {
          "output_type": "stream",
          "name": "stdout",
          "text": [
            "[[1, 5], [2, 6], [3, 6], [4, 5], [5, 4], [6, 5], [7, 5], [8, 4], [9, 5], [10, 5], [11, 6], [12, 5]]\n"
          ]
        },
        {
          "output_type": "execute_result",
          "data": {
            "text/plain": [
              "0"
            ]
          },
          "metadata": {},
          "execution_count": 54
        }
      ]
    },
    {
      "cell_type": "code",
      "source": [],
      "metadata": {
        "id": "1laz3jA4LfMz"
      },
      "execution_count": null,
      "outputs": []
    }
  ]
}