{
  "nbformat": 4,
  "nbformat_minor": 0,
  "metadata": {
    "colab": {
      "provenance": [],
      "authorship_tag": "ABX9TyMjsyyecd9Y6Mj4b37ohwcn",
      "include_colab_link": true
    },
    "kernelspec": {
      "name": "python3",
      "display_name": "Python 3"
    },
    "language_info": {
      "name": "python"
    }
  },
  "cells": [
    {
      "cell_type": "markdown",
      "metadata": {
        "id": "view-in-github",
        "colab_type": "text"
      },
      "source": [
        "<a href=\"https://colab.research.google.com/github/joony0512/short_codes/blob/main/%EC%83%81%ED%95%98%EC%A2%8C%EC%9A%B0%2C%EC%8B%9C%EA%B0%81%2C%EC%99%95%EC%8B%A4%EC%9D%98%EB%82%98%EC%9D%B4%ED%8A%B8%2C%EB%91%90%EB%B0%B0%EC%97%B4%EC%9D%98%EC%9B%90%EC%86%8C%EA%B5%90%EC%B2%B4%2C%EC%88%9C%EC%B0%A8%ED%83%90%EC%83%89%2C%EC%9D%B4%EC%A7%84%ED%83%90%EC%83%89.ipynb\" target=\"_parent\"><img src=\"https://colab.research.google.com/assets/colab-badge.svg\" alt=\"Open In Colab\"/></a>"
      ]
    },
    {
      "cell_type": "code",
      "execution_count": 1,
      "metadata": {
        "colab": {
          "base_uri": "https://localhost:8080/"
        },
        "id": "kFB6E8Q0q5gM",
        "outputId": "8f05b30b-e064-4e9a-d070-c4b0ef1dd7d6"
      },
      "outputs": [
        {
          "name": "stdout",
          "output_type": "stream",
          "text": [
            "5 8 3\n"
          ]
        }
      ],
      "source": [
        "n, m , k = map(int, input().split())"
      ]
    },
    {
      "cell_type": "code",
      "source": [
        "data = list(map(int, input().split()))"
      ],
      "metadata": {
        "colab": {
          "base_uri": "https://localhost:8080/"
        },
        "id": "jJ6ojWCSq-6k",
        "outputId": "ea28ad1d-6dd9-402d-f164-4a853c6d508e"
      },
      "execution_count": 3,
      "outputs": [
        {
          "name": "stdout",
          "output_type": "stream",
          "text": [
            "2 4 5 4 6\n"
          ]
        }
      ]
    },
    {
      "cell_type": "code",
      "source": [
        "data"
      ],
      "metadata": {
        "colab": {
          "base_uri": "https://localhost:8080/"
        },
        "id": "2El1eQ4trFdL",
        "outputId": "c3d2445b-f913-43ed-a6fd-d4d2d1899412"
      },
      "execution_count": 4,
      "outputs": [
        {
          "output_type": "execute_result",
          "data": {
            "text/plain": [
              "[2, 4, 5, 4, 6]"
            ]
          },
          "metadata": {},
          "execution_count": 4
        }
      ]
    },
    {
      "cell_type": "markdown",
      "source": [
        "## 상하좌우"
      ],
      "metadata": {
        "id": "QvEABnRn6Grc"
      }
    },
    {
      "cell_type": "code",
      "source": [
        "\n",
        "def solution(n, x, y , plans):\n",
        "    dx = [0, 0, -1, 1]\n",
        "    dy = [-1, 1, 0, 0]\n",
        "\n",
        "    move_type =['L', 'R', 'U', 'D']\n",
        "\n",
        "    for plan in plans:\n",
        "        for i in range(len(move_type)):\n",
        "            if plan == move_type[i]:\n",
        "                nx = x + dx[i]\n",
        "                ny = y + dy[i]\n",
        "\n",
        "        if nx <1 or ny<1 or nx > n or ny > n:\n",
        "            continue\n",
        "        x, y = nx, ny\n",
        "    return (x, y)\n",
        "\n"
      ],
      "metadata": {
        "id": "K0ezAHo-6GPl"
      },
      "execution_count": 8,
      "outputs": []
    },
    {
      "cell_type": "code",
      "source": [
        "solution(5, 1, 1, ['R', 'R', 'R', 'U', 'D', 'D'])"
      ],
      "metadata": {
        "colab": {
          "base_uri": "https://localhost:8080/"
        },
        "id": "RvhoTHxB7zqa",
        "outputId": "ad18f31e-ff46-47fd-ba48-b9f5e999e2cd"
      },
      "execution_count": 10,
      "outputs": [
        {
          "output_type": "execute_result",
          "data": {
            "text/plain": [
              "(3, 4)"
            ]
          },
          "metadata": {},
          "execution_count": 10
        }
      ]
    },
    {
      "cell_type": "markdown",
      "source": [
        "# 시각"
      ],
      "metadata": {
        "id": "cs-jmCza8MBw"
      }
    },
    {
      "cell_type": "code",
      "source": [
        "def solution(N):\n",
        "    answer =0\n",
        "    for i in range(N+1):\n",
        "        for j in range(60):\n",
        "            for k in range(60):\n",
        "                if '3' in str(i) + str(j) + str(k):\n",
        "                    answer += 1\n",
        "    return answer"
      ],
      "metadata": {
        "id": "RmIXADVw8BHf"
      },
      "execution_count": 13,
      "outputs": []
    },
    {
      "cell_type": "code",
      "source": [
        "solution(5)"
      ],
      "metadata": {
        "colab": {
          "base_uri": "https://localhost:8080/"
        },
        "id": "f2lJA6JW8xkn",
        "outputId": "615c82fb-9d7b-4141-efad-92150e83aa3d"
      },
      "execution_count": 14,
      "outputs": [
        {
          "output_type": "execute_result",
          "data": {
            "text/plain": [
              "11475"
            ]
          },
          "metadata": {},
          "execution_count": 14
        }
      ]
    },
    {
      "cell_type": "markdown",
      "source": [
        "# 왕실의 나이트"
      ],
      "metadata": {
        "id": "tj8ldAgl-lPp"
      }
    },
    {
      "cell_type": "code",
      "source": [
        "int(ord('b')) -int(ord('a')) + 1"
      ],
      "metadata": {
        "colab": {
          "base_uri": "https://localhost:8080/"
        },
        "id": "-tDP4XOf_Ta1",
        "outputId": "4df429a4-85c7-428e-d221-f9657841a8dd"
      },
      "execution_count": 24,
      "outputs": [
        {
          "output_type": "execute_result",
          "data": {
            "text/plain": [
              "2"
            ]
          },
          "metadata": {},
          "execution_count": 24
        }
      ]
    },
    {
      "cell_type": "code",
      "source": [
        "def solution(x, y):\n",
        "    row = x\n",
        "    column = int(ord(y))-int(ord('a')) + 1\n",
        "\n",
        "    steps = [(-2, 1), (-2, -1), (-1, 2), (-1, -2), (1, -2), (1, 2), (2, -1), (2, 1)]\n",
        "\n",
        "    answer = 0\n",
        "    for step in steps :\n",
        "        next_row = row + step[0]\n",
        "        next_column = column + step[1]\n",
        "\n",
        "        if next_row >=1 and next_row <=8 and next_column >=1 and next_column <= 8:r\n",
        "            answer +=1\n",
        "    return answer\n"
      ],
      "metadata": {
        "id": "6sVhkmdQ-HYn"
      },
      "execution_count": 28,
      "outputs": []
    },
    {
      "cell_type": "code",
      "source": [
        "solution(2,'c')"
      ],
      "metadata": {
        "colab": {
          "base_uri": "https://localhost:8080/"
        },
        "id": "26GAVQ5wAgf7",
        "outputId": "345ffeec-e899-4389-f395-12bf2692c94d"
      },
      "execution_count": 31,
      "outputs": [
        {
          "output_type": "execute_result",
          "data": {
            "text/plain": [
              "6"
            ]
          },
          "metadata": {},
          "execution_count": 31
        }
      ]
    },
    {
      "cell_type": "markdown",
      "source": [
        "# 두 배열의 원소 교체"
      ],
      "metadata": {
        "id": "58QqXL2kg30y"
      }
    },
    {
      "cell_type": "code",
      "source": [
        "def solution(N, K, A, B):\n",
        "    A.sort()\n",
        "    B.sort(reverse=True)\n",
        "\n",
        "    for i in range(K):\n",
        "        if A[i] < B[i]:\n",
        "            A[i], B[i] = B[i], A[i]\n",
        "        else :\n",
        "            break\n",
        "    return sum(A)\n"
      ],
      "metadata": {
        "id": "_FJQkGN0AiiJ"
      },
      "execution_count": 32,
      "outputs": []
    },
    {
      "cell_type": "code",
      "source": [
        "solution(5, 3, [1,2,5,4,3], [5,5,6,6,5])"
      ],
      "metadata": {
        "colab": {
          "base_uri": "https://localhost:8080/"
        },
        "id": "qSwPOHP6iG0V",
        "outputId": "71dd6266-a48d-4378-93b8-b168154269b1"
      },
      "execution_count": 33,
      "outputs": [
        {
          "output_type": "execute_result",
          "data": {
            "text/plain": [
              "26"
            ]
          },
          "metadata": {},
          "execution_count": 33
        }
      ]
    },
    {
      "cell_type": "markdown",
      "source": [
        "# 순차 탐색"
      ],
      "metadata": {
        "id": "EPCb9efBiTVH"
      }
    },
    {
      "cell_type": "code",
      "source": [
        "def solution(N, target, array):\n",
        "    answer =0\n",
        "    for i in range(N):\n",
        "        if array[i] == target :\n",
        "            answer += i + 1\n",
        "    return answer\n",
        "\n",
        "solution(3, 'hyejun', ['hj', 'hyejun', 'HJ'])"
      ],
      "metadata": {
        "colab": {
          "base_uri": "https://localhost:8080/"
        },
        "id": "0ueKf8J7iPIf",
        "outputId": "5da49ed0-9285-4296-e500-2f07c5a3b0f0"
      },
      "execution_count": 36,
      "outputs": [
        {
          "output_type": "execute_result",
          "data": {
            "text/plain": [
              "2"
            ]
          },
          "metadata": {},
          "execution_count": 36
        }
      ]
    },
    {
      "cell_type": "markdown",
      "source": [
        "# 이진 탐색"
      ],
      "metadata": {
        "id": "6HGrIiFDj_Nd"
      }
    },
    {
      "cell_type": "code",
      "source": [
        "def solution(array, target):\n",
        "    array.sort()\n",
        "\n",
        "    start = array[0]\n",
        "    end = array[-1]\n",
        "\n",
        "    while start <=end:\n",
        "        mid = (start + end)//2\n",
        "\n",
        "        if array[mid] ==target :\n",
        "            return mid + 1\n",
        "        elif array[mid] > target :\n",
        "            end = mid -1\n",
        "        else :\n",
        "            start = mid + 1\n",
        "    return None\n"
      ],
      "metadata": {
        "id": "5VTk3UqOj-v1"
      },
      "execution_count": 40,
      "outputs": []
    },
    {
      "cell_type": "code",
      "source": [
        "solution([1,2,3,5, 6, 7, 8, 9, 10], 2)"
      ],
      "metadata": {
        "colab": {
          "base_uri": "https://localhost:8080/"
        },
        "id": "meBfD19XjRoM",
        "outputId": "d484bae3-4de1-4770-8174-6773237dae2f"
      },
      "execution_count": 41,
      "outputs": [
        {
          "output_type": "execute_result",
          "data": {
            "text/plain": [
              "2"
            ]
          },
          "metadata": {},
          "execution_count": 41
        }
      ]
    },
    {
      "cell_type": "code",
      "source": [],
      "metadata": {
        "id": "IRUPOUzLmV0r"
      },
      "execution_count": null,
      "outputs": []
    }
  ]
}