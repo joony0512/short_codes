{
  "nbformat": 4,
  "nbformat_minor": 0,
  "metadata": {
    "colab": {
      "provenance": [],
      "authorship_tag": "ABX9TyNMChGMQELxHRBoS7PXFVWT",
      "include_colab_link": true
    },
    "kernelspec": {
      "name": "python3",
      "display_name": "Python 3"
    },
    "language_info": {
      "name": "python"
    }
  },
  "cells": [
    {
      "cell_type": "markdown",
      "metadata": {
        "id": "view-in-github",
        "colab_type": "text"
      },
      "source": [
        "<a href=\"https://colab.research.google.com/github/joony0512/short_codes/blob/main/%EB%8B%A4%EC%9D%B4%EB%82%98%EB%AF%B9%ED%94%84%EB%A1%9C%EA%B7%B8%EB%9E%98%EB%B0%8D.ipynb\" target=\"_parent\"><img src=\"https://colab.research.google.com/assets/colab-badge.svg\" alt=\"Open In Colab\"/></a>"
      ]
    },
    {
      "cell_type": "markdown",
      "source": [
        "# 다이나믹 프로그래밍\n"
      ],
      "metadata": {
        "id": "bEa4gmP_ZXyD"
      }
    },
    {
      "cell_type": "code",
      "execution_count": 9,
      "metadata": {
        "id": "QkwVOUZpY9sC"
      },
      "outputs": [],
      "source": [
        "# 피보나치 - 탑다운(메모제이션)\n",
        "d = [0]*100\n",
        "\n",
        "def pibo(x):\n",
        "    print('f(' + str(x) + ')', end ='')\n",
        "    if x == 1 or x ==2 :\n",
        "        return 1\n",
        "    if d[x] !=0:\n",
        "        return d[x]\n",
        "    d[x] = pibo(x-1) + pibo(x-2)\n",
        "    return d[x]\n",
        "\n"
      ]
    },
    {
      "cell_type": "code",
      "source": [
        "pibo(8)"
      ],
      "metadata": {
        "colab": {
          "base_uri": "https://localhost:8080/"
        },
        "id": "Jt-bdjWHZW-g",
        "outputId": "ec074446-7723-4c48-baa6-367deb904f99"
      },
      "execution_count": 10,
      "outputs": [
        {
          "output_type": "stream",
          "name": "stdout",
          "text": [
            "f(8)f(7)f(6)f(5)f(4)f(3)f(2)f(1)f(2)f(3)f(4)f(5)f(6)"
          ]
        },
        {
          "output_type": "execute_result",
          "data": {
            "text/plain": [
              "21"
            ]
          },
          "metadata": {},
          "execution_count": 10
        }
      ]
    },
    {
      "cell_type": "code",
      "source": [
        "# 피보나치 - 보텀업\n",
        "\n",
        "d = [0] * 100\n",
        "\n",
        "d[1] = 1\n",
        "d[2] = 1\n",
        "n = 99\n",
        "\n",
        "for i in range(3, n+1):\n",
        "    d[i] = d[i-1] + d[i-2]\n",
        "\n",
        "print(d[n])"
      ],
      "metadata": {
        "colab": {
          "base_uri": "https://localhost:8080/"
        },
        "id": "3EoW-3NtaKYO",
        "outputId": "d76e669b-3f5a-4848-f605-858b6b1f05d3"
      },
      "execution_count": 11,
      "outputs": [
        {
          "output_type": "stream",
          "name": "stdout",
          "text": [
            "218922995834555169026\n"
          ]
        }
      ]
    },
    {
      "cell_type": "markdown",
      "source": [
        "# 1로 만들기\n",
        "\n",
        "- x가 5로 나누어 떨어지면 5로나눈다\n",
        "- x가 3으로 나누어떨어지면 3으로 나눈다\n",
        "- x가 2로 나누어 떨어지면 2로 나눈다\n",
        "- x에서1을 뺀다.\n",
        "- 정수 x가 주어졌을때, 연산 4개를 적절히 사용해 1을 만든다. 연산을 사용하는 횟수의 최솟값을 출력하시오\n"
      ],
      "metadata": {
        "id": "oLK1ZnFte-kR"
      }
    },
    {
      "cell_type": "code",
      "source": [
        "x = 1\n",
        "\n",
        "# d[i] 는 i를 1로 만들기 위한 최소 횟수\n",
        "d = [0] * 30001\n",
        "for i in range(2, x+1):\n",
        "    d[i] = d[i-1] +1\n",
        "\n",
        "    if i%2 ==0:\n",
        "        d[i] = min(d[i], d[i//2]+1)\n",
        "\n",
        "    if i%3 ==0:\n",
        "        d[i] = min(d[i], d[i//3] +1)\n",
        "\n",
        "    if i%5 ==0:\n",
        "        d[i] =min(d[i], d[i//5] +1)\n",
        "print(d[x])\n"
      ],
      "metadata": {
        "colab": {
          "base_uri": "https://localhost:8080/"
        },
        "id": "fM3VISNMeAex",
        "outputId": "6a332695-91c4-403e-beaf-6cb79cf752ad"
      },
      "execution_count": 28,
      "outputs": [
        {
          "output_type": "stream",
          "name": "stdout",
          "text": [
            "0\n"
          ]
        }
      ]
    },
    {
      "cell_type": "code",
      "source": [],
      "metadata": {
        "colab": {
          "base_uri": "https://localhost:8080/"
        },
        "id": "YysNHXF4jCl0",
        "outputId": "7f5b9626-0c66-49b7-eba8-d0cece185f30"
      },
      "execution_count": 23,
      "outputs": [
        {
          "output_type": "execute_result",
          "data": {
            "text/plain": [
              "3"
            ]
          },
          "metadata": {},
          "execution_count": 23
        }
      ]
    },
    {
      "cell_type": "markdown",
      "source": [
        "# 개미전사\n"
      ],
      "metadata": {
        "id": "_8RnefC7yupT"
      }
    },
    {
      "cell_type": "code",
      "source": [
        "def solution(n, array):\n",
        "    d = [0]*100\n",
        "\n",
        "    d[0] = array[0]\n",
        "    d[1] = array[1]\n",
        "\n",
        "    for i in range(2, n):\n",
        "        d[i] = max(d[i-1], d[i-2] + array[i])\n",
        "    return d[n-1]\n"
      ],
      "metadata": {
        "id": "QQeaaa-FjD3M"
      },
      "execution_count": 29,
      "outputs": []
    },
    {
      "cell_type": "code",
      "source": [
        "solution(6, [1,3,5,2,1,3])"
      ],
      "metadata": {
        "colab": {
          "base_uri": "https://localhost:8080/"
        },
        "id": "Bew6NG4W0nNK",
        "outputId": "dd2f9d99-1827-4d70-ac25-e6e0a1f5d35d"
      },
      "execution_count": 30,
      "outputs": [
        {
          "output_type": "execute_result",
          "data": {
            "text/plain": [
              "9"
            ]
          },
          "metadata": {},
          "execution_count": 30
        }
      ]
    },
    {
      "cell_type": "markdown",
      "source": [
        "# 타일 채우기\n",
        "- 2*N짜리 타일을 1x2, 2x1, 2x2의 타일로 채울 수 있는 모든 경우의 수 구하기\n",
        "- 값이 매우 커질 수 있으므로 796796으로 나누고 나머지만 취하기\n"
      ],
      "metadata": {
        "id": "LboaeuQ660Vg"
      }
    },
    {
      "cell_type": "code",
      "source": [
        "def solution(n):\n",
        "    d = [0] *1001\n",
        "    d[1] = 1\n",
        "    d[2] = 3\n",
        "    for i in range(3, n +1):\n",
        "        d[i] = (d[i-1] + 2*d[i-2])%796796\n",
        "    return d[n]\n",
        "\n"
      ],
      "metadata": {
        "id": "3ieHMYiK0rhr"
      },
      "execution_count": 31,
      "outputs": []
    },
    {
      "cell_type": "code",
      "source": [
        "solution(5)"
      ],
      "metadata": {
        "colab": {
          "base_uri": "https://localhost:8080/"
        },
        "id": "0nmvTpx47tBx",
        "outputId": "4b241ece-367a-431c-9999-d8f0aac119b3"
      },
      "execution_count": 32,
      "outputs": [
        {
          "output_type": "execute_result",
          "data": {
            "text/plain": [
              "21"
            ]
          },
          "metadata": {},
          "execution_count": 32
        }
      ]
    },
    {
      "cell_type": "code",
      "source": [
        "solution(4)"
      ],
      "metadata": {
        "colab": {
          "base_uri": "https://localhost:8080/"
        },
        "id": "QKAxBzPb7uaq",
        "outputId": "904fbe28-728e-4335-b791-7272ecca71b1"
      },
      "execution_count": 33,
      "outputs": [
        {
          "output_type": "execute_result",
          "data": {
            "text/plain": [
              "11"
            ]
          },
          "metadata": {},
          "execution_count": 33
        }
      ]
    },
    {
      "cell_type": "code",
      "source": [
        "solution(3)"
      ],
      "metadata": {
        "colab": {
          "base_uri": "https://localhost:8080/"
        },
        "id": "6op2Tewc7wFM",
        "outputId": "c01a0a94-7ab8-4bf2-8fb7-13a6b8a3e086"
      },
      "execution_count": 34,
      "outputs": [
        {
          "output_type": "execute_result",
          "data": {
            "text/plain": [
              "5"
            ]
          },
          "metadata": {},
          "execution_count": 34
        }
      ]
    }
  ]
}